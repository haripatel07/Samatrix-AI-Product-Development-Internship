{
  "nbformat": 4,
  "nbformat_minor": 0,
  "metadata": {
    "colab": {
      "provenance": []
    },
    "kernelspec": {
      "name": "python3",
      "display_name": "Python 3"
    },
    "language_info": {
      "name": "python"
    }
  },
  "cells": [
    {
      "cell_type": "markdown",
      "source": [
        "# Portfolio Risk Assessment and 95% VAR"
      ],
      "metadata": {
        "id": "2BBLuHvLEbKw"
      }
    },
    {
      "cell_type": "markdown",
      "source": [
        "*Goal*: Quantify the daily risk of losing money in a simple four-stock portfolio\n",
        "\n",
        "Key Concepts:\n",
        "- Log returns: how prices change day-to-day\n",
        "- Summary Statistics: average, variability, skewness, tail-heaviness\n",
        "- Value at Risk(VAR): threshold loss you won't exceed 95% of the time\n",
        "- Confidence Intervals: ranges where a true parameter likely lie\n",
        "- Hypothesis Testing: checking if the average return is different from zero"
      ],
      "metadata": {
        "id": "N8SKNqQ7U6XY"
      }
    },
    {
      "cell_type": "code",
      "source": [
        "!pip install --quiet yfinance"
      ],
      "metadata": {
        "id": "SmRbmduy4m4y"
      },
      "execution_count": null,
      "outputs": []
    },
    {
      "cell_type": "markdown",
      "source": [
        "*yfinance* : A Python library to easily download financial market data from Yahoo Finance."
      ],
      "metadata": {
        "id": "lxTW3XOzc-Vn"
      }
    },
    {
      "cell_type": "code",
      "source": [
        "#Importing required libraries\n",
        "import pandas as pd\n",
        "import numpy as np\n",
        "import matplotlib.pyplot as plt\n",
        "import seaborn as sns\n",
        "from pandas_datareader import data as pdr\n",
        "import datetime as dt\n",
        "from scipy import stats\n",
        "import yfinance as yf\n",
        "import time\n",
        "\n",
        "sns.set_style(\"whitegrid\")"
      ],
      "metadata": {
        "id": "4rDTs9hK9SKZ"
      },
      "execution_count": null,
      "outputs": []
    },
    {
      "cell_type": "markdown",
      "source": [
        "Fetching data for four stocks using yfinance. The four stocks are Apple, Microsft, Google and Amazon"
      ],
      "metadata": {
        "id": "DzMa1mTWjEPZ"
      }
    },
    {
      "cell_type": "code",
      "source": [
        "ticker = ['AAPL','MSFT','GOOGL','AMZN']\n",
        "weights = np.array([0.25,0.25,0.25,0.25])\n",
        "\n",
        "start = dt.datetime(2020,1,1) # Start date of fetching data\n",
        "end = dt.datetime.today() # End date\n",
        "\n",
        "price = pd.DataFrame(index=pd.date_range(start,end))\n",
        "\n",
        "for t in ticker:\n",
        "  print(f\"fetching{ticker}\",end = \"\")\n",
        "  try:\n",
        "    # fetching the data\n",
        "    df = yf.Ticker(ticker).history(start=start.strftime(\"%Y-%m-%d\"),end = end.strftime(\"%Y-%m-%d\"),auto_adjust=True,)\n",
        "    series = df['Close']\n",
        "    print(\"Y finance \",end=\"\")\n",
        "  except Exception as e:\n",
        "    print(f\"X yfinance ({e}); falling back to Stooq\")\n",
        "    df2 = pdr.DataReader(ticker,'stooq',start,end)\n",
        "    df2 = df2.sort_index()\n",
        "    series= df2['Close']\n",
        "\n",
        "  price[ticker] = series\n",
        "  time.sleep(1)\n",
        "\n",
        "price = price.dropna(how='all').ffill().bfill()\n",
        "price.head()"
      ],
      "metadata": {
        "colab": {
          "base_uri": "https://localhost:8080/",
          "height": 276
        },
        "id": "MM-NQKb2cbxA",
        "outputId": "412c7cb5-93a8-4c63-d174-454e02784960"
      },
      "execution_count": null,
      "outputs": [
        {
          "output_type": "stream",
          "name": "stdout",
          "text": [
            "fetching['AAPL', 'MSFT', 'GOOGL', 'AMZN']X yfinance ('list' object has no attribute 'upper'); falling back to Stooq\n",
            "fetching['AAPL', 'MSFT', 'GOOGL', 'AMZN']X yfinance ('list' object has no attribute 'upper'); falling back to Stooq\n",
            "fetching['AAPL', 'MSFT', 'GOOGL', 'AMZN']X yfinance ('list' object has no attribute 'upper'); falling back to Stooq\n",
            "fetching['AAPL', 'MSFT', 'GOOGL', 'AMZN']X yfinance ('list' object has no attribute 'upper'); falling back to Stooq\n"
          ]
        },
        {
          "output_type": "execute_result",
          "data": {
            "text/plain": [
              "               AAPL     MSFT    GOOGL     AMZN\n",
              "2020-01-02  72.7161  153.613  68.1868  94.9005\n",
              "2020-01-03  72.0115  151.726  67.8302  93.7485\n",
              "2020-01-06  72.5811  152.118  69.6381  95.1440\n",
              "2020-01-07  72.2432  150.710  69.5035  95.3430\n",
              "2020-01-08  73.4042  153.142  69.9983  94.5985"
            ],
            "text/html": [
              "\n",
              "  <div id=\"df-09765d6f-cd69-495d-8bc6-4b4d82e11217\" class=\"colab-df-container\">\n",
              "    <div>\n",
              "<style scoped>\n",
              "    .dataframe tbody tr th:only-of-type {\n",
              "        vertical-align: middle;\n",
              "    }\n",
              "\n",
              "    .dataframe tbody tr th {\n",
              "        vertical-align: top;\n",
              "    }\n",
              "\n",
              "    .dataframe thead th {\n",
              "        text-align: right;\n",
              "    }\n",
              "</style>\n",
              "<table border=\"1\" class=\"dataframe\">\n",
              "  <thead>\n",
              "    <tr style=\"text-align: right;\">\n",
              "      <th></th>\n",
              "      <th>AAPL</th>\n",
              "      <th>MSFT</th>\n",
              "      <th>GOOGL</th>\n",
              "      <th>AMZN</th>\n",
              "    </tr>\n",
              "  </thead>\n",
              "  <tbody>\n",
              "    <tr>\n",
              "      <th>2020-01-02</th>\n",
              "      <td>72.7161</td>\n",
              "      <td>153.613</td>\n",
              "      <td>68.1868</td>\n",
              "      <td>94.9005</td>\n",
              "    </tr>\n",
              "    <tr>\n",
              "      <th>2020-01-03</th>\n",
              "      <td>72.0115</td>\n",
              "      <td>151.726</td>\n",
              "      <td>67.8302</td>\n",
              "      <td>93.7485</td>\n",
              "    </tr>\n",
              "    <tr>\n",
              "      <th>2020-01-06</th>\n",
              "      <td>72.5811</td>\n",
              "      <td>152.118</td>\n",
              "      <td>69.6381</td>\n",
              "      <td>95.1440</td>\n",
              "    </tr>\n",
              "    <tr>\n",
              "      <th>2020-01-07</th>\n",
              "      <td>72.2432</td>\n",
              "      <td>150.710</td>\n",
              "      <td>69.5035</td>\n",
              "      <td>95.3430</td>\n",
              "    </tr>\n",
              "    <tr>\n",
              "      <th>2020-01-08</th>\n",
              "      <td>73.4042</td>\n",
              "      <td>153.142</td>\n",
              "      <td>69.9983</td>\n",
              "      <td>94.5985</td>\n",
              "    </tr>\n",
              "  </tbody>\n",
              "</table>\n",
              "</div>\n",
              "    <div class=\"colab-df-buttons\">\n",
              "\n",
              "  <div class=\"colab-df-container\">\n",
              "    <button class=\"colab-df-convert\" onclick=\"convertToInteractive('df-09765d6f-cd69-495d-8bc6-4b4d82e11217')\"\n",
              "            title=\"Convert this dataframe to an interactive table.\"\n",
              "            style=\"display:none;\">\n",
              "\n",
              "  <svg xmlns=\"http://www.w3.org/2000/svg\" height=\"24px\" viewBox=\"0 -960 960 960\">\n",
              "    <path d=\"M120-120v-720h720v720H120Zm60-500h600v-160H180v160Zm220 220h160v-160H400v160Zm0 220h160v-160H400v160ZM180-400h160v-160H180v160Zm440 0h160v-160H620v160ZM180-180h160v-160H180v160Zm440 0h160v-160H620v160Z\"/>\n",
              "  </svg>\n",
              "    </button>\n",
              "\n",
              "  <style>\n",
              "    .colab-df-container {\n",
              "      display:flex;\n",
              "      gap: 12px;\n",
              "    }\n",
              "\n",
              "    .colab-df-convert {\n",
              "      background-color: #E8F0FE;\n",
              "      border: none;\n",
              "      border-radius: 50%;\n",
              "      cursor: pointer;\n",
              "      display: none;\n",
              "      fill: #1967D2;\n",
              "      height: 32px;\n",
              "      padding: 0 0 0 0;\n",
              "      width: 32px;\n",
              "    }\n",
              "\n",
              "    .colab-df-convert:hover {\n",
              "      background-color: #E2EBFA;\n",
              "      box-shadow: 0px 1px 2px rgba(60, 64, 67, 0.3), 0px 1px 3px 1px rgba(60, 64, 67, 0.15);\n",
              "      fill: #174EA6;\n",
              "    }\n",
              "\n",
              "    .colab-df-buttons div {\n",
              "      margin-bottom: 4px;\n",
              "    }\n",
              "\n",
              "    [theme=dark] .colab-df-convert {\n",
              "      background-color: #3B4455;\n",
              "      fill: #D2E3FC;\n",
              "    }\n",
              "\n",
              "    [theme=dark] .colab-df-convert:hover {\n",
              "      background-color: #434B5C;\n",
              "      box-shadow: 0px 1px 3px 1px rgba(0, 0, 0, 0.15);\n",
              "      filter: drop-shadow(0px 1px 2px rgba(0, 0, 0, 0.3));\n",
              "      fill: #FFFFFF;\n",
              "    }\n",
              "  </style>\n",
              "\n",
              "    <script>\n",
              "      const buttonEl =\n",
              "        document.querySelector('#df-09765d6f-cd69-495d-8bc6-4b4d82e11217 button.colab-df-convert');\n",
              "      buttonEl.style.display =\n",
              "        google.colab.kernel.accessAllowed ? 'block' : 'none';\n",
              "\n",
              "      async function convertToInteractive(key) {\n",
              "        const element = document.querySelector('#df-09765d6f-cd69-495d-8bc6-4b4d82e11217');\n",
              "        const dataTable =\n",
              "          await google.colab.kernel.invokeFunction('convertToInteractive',\n",
              "                                                    [key], {});\n",
              "        if (!dataTable) return;\n",
              "\n",
              "        const docLinkHtml = 'Like what you see? Visit the ' +\n",
              "          '<a target=\"_blank\" href=https://colab.research.google.com/notebooks/data_table.ipynb>data table notebook</a>'\n",
              "          + ' to learn more about interactive tables.';\n",
              "        element.innerHTML = '';\n",
              "        dataTable['output_type'] = 'display_data';\n",
              "        await google.colab.output.renderOutput(dataTable, element);\n",
              "        const docLink = document.createElement('div');\n",
              "        docLink.innerHTML = docLinkHtml;\n",
              "        element.appendChild(docLink);\n",
              "      }\n",
              "    </script>\n",
              "  </div>\n",
              "\n",
              "\n",
              "    <div id=\"df-3c1f2295-8779-44e5-883a-50182094ffbd\">\n",
              "      <button class=\"colab-df-quickchart\" onclick=\"quickchart('df-3c1f2295-8779-44e5-883a-50182094ffbd')\"\n",
              "                title=\"Suggest charts\"\n",
              "                style=\"display:none;\">\n",
              "\n",
              "<svg xmlns=\"http://www.w3.org/2000/svg\" height=\"24px\"viewBox=\"0 0 24 24\"\n",
              "     width=\"24px\">\n",
              "    <g>\n",
              "        <path d=\"M19 3H5c-1.1 0-2 .9-2 2v14c0 1.1.9 2 2 2h14c1.1 0 2-.9 2-2V5c0-1.1-.9-2-2-2zM9 17H7v-7h2v7zm4 0h-2V7h2v10zm4 0h-2v-4h2v4z\"/>\n",
              "    </g>\n",
              "</svg>\n",
              "      </button>\n",
              "\n",
              "<style>\n",
              "  .colab-df-quickchart {\n",
              "      --bg-color: #E8F0FE;\n",
              "      --fill-color: #1967D2;\n",
              "      --hover-bg-color: #E2EBFA;\n",
              "      --hover-fill-color: #174EA6;\n",
              "      --disabled-fill-color: #AAA;\n",
              "      --disabled-bg-color: #DDD;\n",
              "  }\n",
              "\n",
              "  [theme=dark] .colab-df-quickchart {\n",
              "      --bg-color: #3B4455;\n",
              "      --fill-color: #D2E3FC;\n",
              "      --hover-bg-color: #434B5C;\n",
              "      --hover-fill-color: #FFFFFF;\n",
              "      --disabled-bg-color: #3B4455;\n",
              "      --disabled-fill-color: #666;\n",
              "  }\n",
              "\n",
              "  .colab-df-quickchart {\n",
              "    background-color: var(--bg-color);\n",
              "    border: none;\n",
              "    border-radius: 50%;\n",
              "    cursor: pointer;\n",
              "    display: none;\n",
              "    fill: var(--fill-color);\n",
              "    height: 32px;\n",
              "    padding: 0;\n",
              "    width: 32px;\n",
              "  }\n",
              "\n",
              "  .colab-df-quickchart:hover {\n",
              "    background-color: var(--hover-bg-color);\n",
              "    box-shadow: 0 1px 2px rgba(60, 64, 67, 0.3), 0 1px 3px 1px rgba(60, 64, 67, 0.15);\n",
              "    fill: var(--button-hover-fill-color);\n",
              "  }\n",
              "\n",
              "  .colab-df-quickchart-complete:disabled,\n",
              "  .colab-df-quickchart-complete:disabled:hover {\n",
              "    background-color: var(--disabled-bg-color);\n",
              "    fill: var(--disabled-fill-color);\n",
              "    box-shadow: none;\n",
              "  }\n",
              "\n",
              "  .colab-df-spinner {\n",
              "    border: 2px solid var(--fill-color);\n",
              "    border-color: transparent;\n",
              "    border-bottom-color: var(--fill-color);\n",
              "    animation:\n",
              "      spin 1s steps(1) infinite;\n",
              "  }\n",
              "\n",
              "  @keyframes spin {\n",
              "    0% {\n",
              "      border-color: transparent;\n",
              "      border-bottom-color: var(--fill-color);\n",
              "      border-left-color: var(--fill-color);\n",
              "    }\n",
              "    20% {\n",
              "      border-color: transparent;\n",
              "      border-left-color: var(--fill-color);\n",
              "      border-top-color: var(--fill-color);\n",
              "    }\n",
              "    30% {\n",
              "      border-color: transparent;\n",
              "      border-left-color: var(--fill-color);\n",
              "      border-top-color: var(--fill-color);\n",
              "      border-right-color: var(--fill-color);\n",
              "    }\n",
              "    40% {\n",
              "      border-color: transparent;\n",
              "      border-right-color: var(--fill-color);\n",
              "      border-top-color: var(--fill-color);\n",
              "    }\n",
              "    60% {\n",
              "      border-color: transparent;\n",
              "      border-right-color: var(--fill-color);\n",
              "    }\n",
              "    80% {\n",
              "      border-color: transparent;\n",
              "      border-right-color: var(--fill-color);\n",
              "      border-bottom-color: var(--fill-color);\n",
              "    }\n",
              "    90% {\n",
              "      border-color: transparent;\n",
              "      border-bottom-color: var(--fill-color);\n",
              "    }\n",
              "  }\n",
              "</style>\n",
              "\n",
              "      <script>\n",
              "        async function quickchart(key) {\n",
              "          const quickchartButtonEl =\n",
              "            document.querySelector('#' + key + ' button');\n",
              "          quickchartButtonEl.disabled = true;  // To prevent multiple clicks.\n",
              "          quickchartButtonEl.classList.add('colab-df-spinner');\n",
              "          try {\n",
              "            const charts = await google.colab.kernel.invokeFunction(\n",
              "                'suggestCharts', [key], {});\n",
              "          } catch (error) {\n",
              "            console.error('Error during call to suggestCharts:', error);\n",
              "          }\n",
              "          quickchartButtonEl.classList.remove('colab-df-spinner');\n",
              "          quickchartButtonEl.classList.add('colab-df-quickchart-complete');\n",
              "        }\n",
              "        (() => {\n",
              "          let quickchartButtonEl =\n",
              "            document.querySelector('#df-3c1f2295-8779-44e5-883a-50182094ffbd button');\n",
              "          quickchartButtonEl.style.display =\n",
              "            google.colab.kernel.accessAllowed ? 'block' : 'none';\n",
              "        })();\n",
              "      </script>\n",
              "    </div>\n",
              "\n",
              "    </div>\n",
              "  </div>\n"
            ],
            "application/vnd.google.colaboratory.intrinsic+json": {
              "type": "dataframe",
              "variable_name": "price",
              "summary": "{\n  \"name\": \"price\",\n  \"rows\": 1355,\n  \"fields\": [\n    {\n      \"column\": \"AAPL\",\n      \"properties\": {\n        \"dtype\": \"number\",\n        \"std\": 44.45968002094492,\n        \"min\": 54.4507,\n        \"max\": 258.736,\n        \"num_unique_values\": 1323,\n        \"samples\": [\n          130.779,\n          176.365,\n          125.248\n        ],\n        \"semantic_type\": \"\",\n        \"description\": \"\"\n      }\n    },\n    {\n      \"column\": \"MSFT\",\n      \"properties\": {\n        \"dtype\": \"number\",\n        \"std\": 85.01350305331157,\n        \"min\": 129.875,\n        \"max\": 465.787,\n        \"num_unique_values\": 1338,\n        \"samples\": [\n          260.329,\n          323.725,\n          326.306\n        ],\n        \"semantic_type\": \"\",\n        \"description\": \"\"\n      }\n    },\n    {\n      \"column\": \"GOOGL\",\n      \"properties\": {\n        \"dtype\": \"number\",\n        \"std\": 34.43571029120957,\n        \"min\": 52.5161,\n        \"max\": 206.38,\n        \"num_unique_values\": 1332,\n        \"samples\": [\n          164.04,\n          157.689,\n          191.81\n        ],\n        \"semantic_type\": \"\",\n        \"description\": \"\"\n      }\n    },\n    {\n      \"column\": \"AMZN\",\n      \"properties\": {\n        \"dtype\": \"number\",\n        \"std\": 34.85333697380867,\n        \"min\": 81.82,\n        \"max\": 242.06,\n        \"num_unique_values\": 1317,\n        \"samples\": [\n          155.212,\n          155.18,\n          161.251\n        ],\n        \"semantic_type\": \"\",\n        \"description\": \"\"\n      }\n    }\n  ]\n}"
            }
          },
          "metadata": {},
          "execution_count": 5
        }
      ]
    },
    {
      "cell_type": "code",
      "source": [
        "price.tail()"
      ],
      "metadata": {
        "colab": {
          "base_uri": "https://localhost:8080/",
          "height": 206
        },
        "id": "YarhcNZ6dtnN",
        "outputId": "52d16001-8fd1-4690-bdfe-27a72d089dab"
      },
      "execution_count": null,
      "outputs": [
        {
          "output_type": "execute_result",
          "data": {
            "text/plain": [
              "              AAPL    MSFT   GOOGL    AMZN\n",
              "2025-05-16  211.26  454.27  166.19  205.59\n",
              "2025-05-19  208.78  458.87  166.54  206.16\n",
              "2025-05-20  206.86  458.17  163.98  204.07\n",
              "2025-05-21  202.09  452.57  168.56  201.12\n",
              "2025-05-22  201.36  454.86  170.87  203.10"
            ],
            "text/html": [
              "\n",
              "  <div id=\"df-84dbd622-f7b8-4811-b46d-af3729741bfc\" class=\"colab-df-container\">\n",
              "    <div>\n",
              "<style scoped>\n",
              "    .dataframe tbody tr th:only-of-type {\n",
              "        vertical-align: middle;\n",
              "    }\n",
              "\n",
              "    .dataframe tbody tr th {\n",
              "        vertical-align: top;\n",
              "    }\n",
              "\n",
              "    .dataframe thead th {\n",
              "        text-align: right;\n",
              "    }\n",
              "</style>\n",
              "<table border=\"1\" class=\"dataframe\">\n",
              "  <thead>\n",
              "    <tr style=\"text-align: right;\">\n",
              "      <th></th>\n",
              "      <th>AAPL</th>\n",
              "      <th>MSFT</th>\n",
              "      <th>GOOGL</th>\n",
              "      <th>AMZN</th>\n",
              "    </tr>\n",
              "  </thead>\n",
              "  <tbody>\n",
              "    <tr>\n",
              "      <th>2025-05-16</th>\n",
              "      <td>211.26</td>\n",
              "      <td>454.27</td>\n",
              "      <td>166.19</td>\n",
              "      <td>205.59</td>\n",
              "    </tr>\n",
              "    <tr>\n",
              "      <th>2025-05-19</th>\n",
              "      <td>208.78</td>\n",
              "      <td>458.87</td>\n",
              "      <td>166.54</td>\n",
              "      <td>206.16</td>\n",
              "    </tr>\n",
              "    <tr>\n",
              "      <th>2025-05-20</th>\n",
              "      <td>206.86</td>\n",
              "      <td>458.17</td>\n",
              "      <td>163.98</td>\n",
              "      <td>204.07</td>\n",
              "    </tr>\n",
              "    <tr>\n",
              "      <th>2025-05-21</th>\n",
              "      <td>202.09</td>\n",
              "      <td>452.57</td>\n",
              "      <td>168.56</td>\n",
              "      <td>201.12</td>\n",
              "    </tr>\n",
              "    <tr>\n",
              "      <th>2025-05-22</th>\n",
              "      <td>201.36</td>\n",
              "      <td>454.86</td>\n",
              "      <td>170.87</td>\n",
              "      <td>203.10</td>\n",
              "    </tr>\n",
              "  </tbody>\n",
              "</table>\n",
              "</div>\n",
              "    <div class=\"colab-df-buttons\">\n",
              "\n",
              "  <div class=\"colab-df-container\">\n",
              "    <button class=\"colab-df-convert\" onclick=\"convertToInteractive('df-84dbd622-f7b8-4811-b46d-af3729741bfc')\"\n",
              "            title=\"Convert this dataframe to an interactive table.\"\n",
              "            style=\"display:none;\">\n",
              "\n",
              "  <svg xmlns=\"http://www.w3.org/2000/svg\" height=\"24px\" viewBox=\"0 -960 960 960\">\n",
              "    <path d=\"M120-120v-720h720v720H120Zm60-500h600v-160H180v160Zm220 220h160v-160H400v160Zm0 220h160v-160H400v160ZM180-400h160v-160H180v160Zm440 0h160v-160H620v160ZM180-180h160v-160H180v160Zm440 0h160v-160H620v160Z\"/>\n",
              "  </svg>\n",
              "    </button>\n",
              "\n",
              "  <style>\n",
              "    .colab-df-container {\n",
              "      display:flex;\n",
              "      gap: 12px;\n",
              "    }\n",
              "\n",
              "    .colab-df-convert {\n",
              "      background-color: #E8F0FE;\n",
              "      border: none;\n",
              "      border-radius: 50%;\n",
              "      cursor: pointer;\n",
              "      display: none;\n",
              "      fill: #1967D2;\n",
              "      height: 32px;\n",
              "      padding: 0 0 0 0;\n",
              "      width: 32px;\n",
              "    }\n",
              "\n",
              "    .colab-df-convert:hover {\n",
              "      background-color: #E2EBFA;\n",
              "      box-shadow: 0px 1px 2px rgba(60, 64, 67, 0.3), 0px 1px 3px 1px rgba(60, 64, 67, 0.15);\n",
              "      fill: #174EA6;\n",
              "    }\n",
              "\n",
              "    .colab-df-buttons div {\n",
              "      margin-bottom: 4px;\n",
              "    }\n",
              "\n",
              "    [theme=dark] .colab-df-convert {\n",
              "      background-color: #3B4455;\n",
              "      fill: #D2E3FC;\n",
              "    }\n",
              "\n",
              "    [theme=dark] .colab-df-convert:hover {\n",
              "      background-color: #434B5C;\n",
              "      box-shadow: 0px 1px 3px 1px rgba(0, 0, 0, 0.15);\n",
              "      filter: drop-shadow(0px 1px 2px rgba(0, 0, 0, 0.3));\n",
              "      fill: #FFFFFF;\n",
              "    }\n",
              "  </style>\n",
              "\n",
              "    <script>\n",
              "      const buttonEl =\n",
              "        document.querySelector('#df-84dbd622-f7b8-4811-b46d-af3729741bfc button.colab-df-convert');\n",
              "      buttonEl.style.display =\n",
              "        google.colab.kernel.accessAllowed ? 'block' : 'none';\n",
              "\n",
              "      async function convertToInteractive(key) {\n",
              "        const element = document.querySelector('#df-84dbd622-f7b8-4811-b46d-af3729741bfc');\n",
              "        const dataTable =\n",
              "          await google.colab.kernel.invokeFunction('convertToInteractive',\n",
              "                                                    [key], {});\n",
              "        if (!dataTable) return;\n",
              "\n",
              "        const docLinkHtml = 'Like what you see? Visit the ' +\n",
              "          '<a target=\"_blank\" href=https://colab.research.google.com/notebooks/data_table.ipynb>data table notebook</a>'\n",
              "          + ' to learn more about interactive tables.';\n",
              "        element.innerHTML = '';\n",
              "        dataTable['output_type'] = 'display_data';\n",
              "        await google.colab.output.renderOutput(dataTable, element);\n",
              "        const docLink = document.createElement('div');\n",
              "        docLink.innerHTML = docLinkHtml;\n",
              "        element.appendChild(docLink);\n",
              "      }\n",
              "    </script>\n",
              "  </div>\n",
              "\n",
              "\n",
              "    <div id=\"df-42b94125-96fa-43b8-a7ea-c3c707c2e664\">\n",
              "      <button class=\"colab-df-quickchart\" onclick=\"quickchart('df-42b94125-96fa-43b8-a7ea-c3c707c2e664')\"\n",
              "                title=\"Suggest charts\"\n",
              "                style=\"display:none;\">\n",
              "\n",
              "<svg xmlns=\"http://www.w3.org/2000/svg\" height=\"24px\"viewBox=\"0 0 24 24\"\n",
              "     width=\"24px\">\n",
              "    <g>\n",
              "        <path d=\"M19 3H5c-1.1 0-2 .9-2 2v14c0 1.1.9 2 2 2h14c1.1 0 2-.9 2-2V5c0-1.1-.9-2-2-2zM9 17H7v-7h2v7zm4 0h-2V7h2v10zm4 0h-2v-4h2v4z\"/>\n",
              "    </g>\n",
              "</svg>\n",
              "      </button>\n",
              "\n",
              "<style>\n",
              "  .colab-df-quickchart {\n",
              "      --bg-color: #E8F0FE;\n",
              "      --fill-color: #1967D2;\n",
              "      --hover-bg-color: #E2EBFA;\n",
              "      --hover-fill-color: #174EA6;\n",
              "      --disabled-fill-color: #AAA;\n",
              "      --disabled-bg-color: #DDD;\n",
              "  }\n",
              "\n",
              "  [theme=dark] .colab-df-quickchart {\n",
              "      --bg-color: #3B4455;\n",
              "      --fill-color: #D2E3FC;\n",
              "      --hover-bg-color: #434B5C;\n",
              "      --hover-fill-color: #FFFFFF;\n",
              "      --disabled-bg-color: #3B4455;\n",
              "      --disabled-fill-color: #666;\n",
              "  }\n",
              "\n",
              "  .colab-df-quickchart {\n",
              "    background-color: var(--bg-color);\n",
              "    border: none;\n",
              "    border-radius: 50%;\n",
              "    cursor: pointer;\n",
              "    display: none;\n",
              "    fill: var(--fill-color);\n",
              "    height: 32px;\n",
              "    padding: 0;\n",
              "    width: 32px;\n",
              "  }\n",
              "\n",
              "  .colab-df-quickchart:hover {\n",
              "    background-color: var(--hover-bg-color);\n",
              "    box-shadow: 0 1px 2px rgba(60, 64, 67, 0.3), 0 1px 3px 1px rgba(60, 64, 67, 0.15);\n",
              "    fill: var(--button-hover-fill-color);\n",
              "  }\n",
              "\n",
              "  .colab-df-quickchart-complete:disabled,\n",
              "  .colab-df-quickchart-complete:disabled:hover {\n",
              "    background-color: var(--disabled-bg-color);\n",
              "    fill: var(--disabled-fill-color);\n",
              "    box-shadow: none;\n",
              "  }\n",
              "\n",
              "  .colab-df-spinner {\n",
              "    border: 2px solid var(--fill-color);\n",
              "    border-color: transparent;\n",
              "    border-bottom-color: var(--fill-color);\n",
              "    animation:\n",
              "      spin 1s steps(1) infinite;\n",
              "  }\n",
              "\n",
              "  @keyframes spin {\n",
              "    0% {\n",
              "      border-color: transparent;\n",
              "      border-bottom-color: var(--fill-color);\n",
              "      border-left-color: var(--fill-color);\n",
              "    }\n",
              "    20% {\n",
              "      border-color: transparent;\n",
              "      border-left-color: var(--fill-color);\n",
              "      border-top-color: var(--fill-color);\n",
              "    }\n",
              "    30% {\n",
              "      border-color: transparent;\n",
              "      border-left-color: var(--fill-color);\n",
              "      border-top-color: var(--fill-color);\n",
              "      border-right-color: var(--fill-color);\n",
              "    }\n",
              "    40% {\n",
              "      border-color: transparent;\n",
              "      border-right-color: var(--fill-color);\n",
              "      border-top-color: var(--fill-color);\n",
              "    }\n",
              "    60% {\n",
              "      border-color: transparent;\n",
              "      border-right-color: var(--fill-color);\n",
              "    }\n",
              "    80% {\n",
              "      border-color: transparent;\n",
              "      border-right-color: var(--fill-color);\n",
              "      border-bottom-color: var(--fill-color);\n",
              "    }\n",
              "    90% {\n",
              "      border-color: transparent;\n",
              "      border-bottom-color: var(--fill-color);\n",
              "    }\n",
              "  }\n",
              "</style>\n",
              "\n",
              "      <script>\n",
              "        async function quickchart(key) {\n",
              "          const quickchartButtonEl =\n",
              "            document.querySelector('#' + key + ' button');\n",
              "          quickchartButtonEl.disabled = true;  // To prevent multiple clicks.\n",
              "          quickchartButtonEl.classList.add('colab-df-spinner');\n",
              "          try {\n",
              "            const charts = await google.colab.kernel.invokeFunction(\n",
              "                'suggestCharts', [key], {});\n",
              "          } catch (error) {\n",
              "            console.error('Error during call to suggestCharts:', error);\n",
              "          }\n",
              "          quickchartButtonEl.classList.remove('colab-df-spinner');\n",
              "          quickchartButtonEl.classList.add('colab-df-quickchart-complete');\n",
              "        }\n",
              "        (() => {\n",
              "          let quickchartButtonEl =\n",
              "            document.querySelector('#df-42b94125-96fa-43b8-a7ea-c3c707c2e664 button');\n",
              "          quickchartButtonEl.style.display =\n",
              "            google.colab.kernel.accessAllowed ? 'block' : 'none';\n",
              "        })();\n",
              "      </script>\n",
              "    </div>\n",
              "\n",
              "    </div>\n",
              "  </div>\n"
            ],
            "application/vnd.google.colaboratory.intrinsic+json": {
              "type": "dataframe",
              "summary": "{\n  \"name\": \"price\",\n  \"rows\": 5,\n  \"fields\": [\n    {\n      \"column\": \"AAPL\",\n      \"properties\": {\n        \"dtype\": \"number\",\n        \"std\": 4.269918032000139,\n        \"min\": 201.36,\n        \"max\": 211.26,\n        \"num_unique_values\": 5,\n        \"samples\": [\n          208.78,\n          201.36,\n          206.86\n        ],\n        \"semantic_type\": \"\",\n        \"description\": \"\"\n      }\n    },\n    {\n      \"column\": \"MSFT\",\n      \"properties\": {\n        \"dtype\": \"number\",\n        \"std\": 2.6779507090310766,\n        \"min\": 452.57,\n        \"max\": 458.87,\n        \"num_unique_values\": 5,\n        \"samples\": [\n          458.87,\n          454.86,\n          458.17\n        ],\n        \"semantic_type\": \"\",\n        \"description\": \"\"\n      }\n    },\n    {\n      \"column\": \"GOOGL\",\n      \"properties\": {\n        \"dtype\": \"number\",\n        \"std\": 2.604739910240566,\n        \"min\": 163.98,\n        \"max\": 170.87,\n        \"num_unique_values\": 5,\n        \"samples\": [\n          166.54,\n          170.87,\n          163.98\n        ],\n        \"semantic_type\": \"\",\n        \"description\": \"\"\n      }\n    },\n    {\n      \"column\": \"AMZN\",\n      \"properties\": {\n        \"dtype\": \"number\",\n        \"std\": 2.0188288684284252,\n        \"min\": 201.12,\n        \"max\": 206.16,\n        \"num_unique_values\": 5,\n        \"samples\": [\n          206.16,\n          203.1,\n          204.07\n        ],\n        \"semantic_type\": \"\",\n        \"description\": \"\"\n      }\n    }\n  ]\n}"
            }
          },
          "metadata": {},
          "execution_count": 6
        }
      ]
    },
    {
      "cell_type": "code",
      "source": [
        "# Calculate log returns of the stocks\n",
        "logR=np.log(price /price.shift(1)).dropna()\n",
        "logR.head()"
      ],
      "metadata": {
        "colab": {
          "base_uri": "https://localhost:8080/",
          "height": 206
        },
        "id": "QYAWEMF-BPC1",
        "outputId": "8f242c91-0c80-4750-9165-38ab8fad2bb7"
      },
      "execution_count": null,
      "outputs": [
        {
          "output_type": "execute_result",
          "data": {
            "text/plain": [
              "                AAPL      MSFT     GOOGL      AMZN\n",
              "2020-01-03 -0.009737 -0.012360 -0.005243 -0.012213\n",
              "2020-01-06  0.007879  0.002580  0.026304  0.014776\n",
              "2020-01-07 -0.004666 -0.009299 -0.001935  0.002089\n",
              "2020-01-08  0.015943  0.016008  0.007094 -0.007839\n",
              "2020-01-09  0.021054  0.012240  0.010441  0.004788"
            ],
            "text/html": [
              "\n",
              "  <div id=\"df-1b7d83aa-5c8a-4a42-927c-78ac8ced04c3\" class=\"colab-df-container\">\n",
              "    <div>\n",
              "<style scoped>\n",
              "    .dataframe tbody tr th:only-of-type {\n",
              "        vertical-align: middle;\n",
              "    }\n",
              "\n",
              "    .dataframe tbody tr th {\n",
              "        vertical-align: top;\n",
              "    }\n",
              "\n",
              "    .dataframe thead th {\n",
              "        text-align: right;\n",
              "    }\n",
              "</style>\n",
              "<table border=\"1\" class=\"dataframe\">\n",
              "  <thead>\n",
              "    <tr style=\"text-align: right;\">\n",
              "      <th></th>\n",
              "      <th>AAPL</th>\n",
              "      <th>MSFT</th>\n",
              "      <th>GOOGL</th>\n",
              "      <th>AMZN</th>\n",
              "    </tr>\n",
              "  </thead>\n",
              "  <tbody>\n",
              "    <tr>\n",
              "      <th>2020-01-03</th>\n",
              "      <td>-0.009737</td>\n",
              "      <td>-0.012360</td>\n",
              "      <td>-0.005243</td>\n",
              "      <td>-0.012213</td>\n",
              "    </tr>\n",
              "    <tr>\n",
              "      <th>2020-01-06</th>\n",
              "      <td>0.007879</td>\n",
              "      <td>0.002580</td>\n",
              "      <td>0.026304</td>\n",
              "      <td>0.014776</td>\n",
              "    </tr>\n",
              "    <tr>\n",
              "      <th>2020-01-07</th>\n",
              "      <td>-0.004666</td>\n",
              "      <td>-0.009299</td>\n",
              "      <td>-0.001935</td>\n",
              "      <td>0.002089</td>\n",
              "    </tr>\n",
              "    <tr>\n",
              "      <th>2020-01-08</th>\n",
              "      <td>0.015943</td>\n",
              "      <td>0.016008</td>\n",
              "      <td>0.007094</td>\n",
              "      <td>-0.007839</td>\n",
              "    </tr>\n",
              "    <tr>\n",
              "      <th>2020-01-09</th>\n",
              "      <td>0.021054</td>\n",
              "      <td>0.012240</td>\n",
              "      <td>0.010441</td>\n",
              "      <td>0.004788</td>\n",
              "    </tr>\n",
              "  </tbody>\n",
              "</table>\n",
              "</div>\n",
              "    <div class=\"colab-df-buttons\">\n",
              "\n",
              "  <div class=\"colab-df-container\">\n",
              "    <button class=\"colab-df-convert\" onclick=\"convertToInteractive('df-1b7d83aa-5c8a-4a42-927c-78ac8ced04c3')\"\n",
              "            title=\"Convert this dataframe to an interactive table.\"\n",
              "            style=\"display:none;\">\n",
              "\n",
              "  <svg xmlns=\"http://www.w3.org/2000/svg\" height=\"24px\" viewBox=\"0 -960 960 960\">\n",
              "    <path d=\"M120-120v-720h720v720H120Zm60-500h600v-160H180v160Zm220 220h160v-160H400v160Zm0 220h160v-160H400v160ZM180-400h160v-160H180v160Zm440 0h160v-160H620v160ZM180-180h160v-160H180v160Zm440 0h160v-160H620v160Z\"/>\n",
              "  </svg>\n",
              "    </button>\n",
              "\n",
              "  <style>\n",
              "    .colab-df-container {\n",
              "      display:flex;\n",
              "      gap: 12px;\n",
              "    }\n",
              "\n",
              "    .colab-df-convert {\n",
              "      background-color: #E8F0FE;\n",
              "      border: none;\n",
              "      border-radius: 50%;\n",
              "      cursor: pointer;\n",
              "      display: none;\n",
              "      fill: #1967D2;\n",
              "      height: 32px;\n",
              "      padding: 0 0 0 0;\n",
              "      width: 32px;\n",
              "    }\n",
              "\n",
              "    .colab-df-convert:hover {\n",
              "      background-color: #E2EBFA;\n",
              "      box-shadow: 0px 1px 2px rgba(60, 64, 67, 0.3), 0px 1px 3px 1px rgba(60, 64, 67, 0.15);\n",
              "      fill: #174EA6;\n",
              "    }\n",
              "\n",
              "    .colab-df-buttons div {\n",
              "      margin-bottom: 4px;\n",
              "    }\n",
              "\n",
              "    [theme=dark] .colab-df-convert {\n",
              "      background-color: #3B4455;\n",
              "      fill: #D2E3FC;\n",
              "    }\n",
              "\n",
              "    [theme=dark] .colab-df-convert:hover {\n",
              "      background-color: #434B5C;\n",
              "      box-shadow: 0px 1px 3px 1px rgba(0, 0, 0, 0.15);\n",
              "      filter: drop-shadow(0px 1px 2px rgba(0, 0, 0, 0.3));\n",
              "      fill: #FFFFFF;\n",
              "    }\n",
              "  </style>\n",
              "\n",
              "    <script>\n",
              "      const buttonEl =\n",
              "        document.querySelector('#df-1b7d83aa-5c8a-4a42-927c-78ac8ced04c3 button.colab-df-convert');\n",
              "      buttonEl.style.display =\n",
              "        google.colab.kernel.accessAllowed ? 'block' : 'none';\n",
              "\n",
              "      async function convertToInteractive(key) {\n",
              "        const element = document.querySelector('#df-1b7d83aa-5c8a-4a42-927c-78ac8ced04c3');\n",
              "        const dataTable =\n",
              "          await google.colab.kernel.invokeFunction('convertToInteractive',\n",
              "                                                    [key], {});\n",
              "        if (!dataTable) return;\n",
              "\n",
              "        const docLinkHtml = 'Like what you see? Visit the ' +\n",
              "          '<a target=\"_blank\" href=https://colab.research.google.com/notebooks/data_table.ipynb>data table notebook</a>'\n",
              "          + ' to learn more about interactive tables.';\n",
              "        element.innerHTML = '';\n",
              "        dataTable['output_type'] = 'display_data';\n",
              "        await google.colab.output.renderOutput(dataTable, element);\n",
              "        const docLink = document.createElement('div');\n",
              "        docLink.innerHTML = docLinkHtml;\n",
              "        element.appendChild(docLink);\n",
              "      }\n",
              "    </script>\n",
              "  </div>\n",
              "\n",
              "\n",
              "    <div id=\"df-cc78dd33-4380-4df7-aa25-0c3def74724d\">\n",
              "      <button class=\"colab-df-quickchart\" onclick=\"quickchart('df-cc78dd33-4380-4df7-aa25-0c3def74724d')\"\n",
              "                title=\"Suggest charts\"\n",
              "                style=\"display:none;\">\n",
              "\n",
              "<svg xmlns=\"http://www.w3.org/2000/svg\" height=\"24px\"viewBox=\"0 0 24 24\"\n",
              "     width=\"24px\">\n",
              "    <g>\n",
              "        <path d=\"M19 3H5c-1.1 0-2 .9-2 2v14c0 1.1.9 2 2 2h14c1.1 0 2-.9 2-2V5c0-1.1-.9-2-2-2zM9 17H7v-7h2v7zm4 0h-2V7h2v10zm4 0h-2v-4h2v4z\"/>\n",
              "    </g>\n",
              "</svg>\n",
              "      </button>\n",
              "\n",
              "<style>\n",
              "  .colab-df-quickchart {\n",
              "      --bg-color: #E8F0FE;\n",
              "      --fill-color: #1967D2;\n",
              "      --hover-bg-color: #E2EBFA;\n",
              "      --hover-fill-color: #174EA6;\n",
              "      --disabled-fill-color: #AAA;\n",
              "      --disabled-bg-color: #DDD;\n",
              "  }\n",
              "\n",
              "  [theme=dark] .colab-df-quickchart {\n",
              "      --bg-color: #3B4455;\n",
              "      --fill-color: #D2E3FC;\n",
              "      --hover-bg-color: #434B5C;\n",
              "      --hover-fill-color: #FFFFFF;\n",
              "      --disabled-bg-color: #3B4455;\n",
              "      --disabled-fill-color: #666;\n",
              "  }\n",
              "\n",
              "  .colab-df-quickchart {\n",
              "    background-color: var(--bg-color);\n",
              "    border: none;\n",
              "    border-radius: 50%;\n",
              "    cursor: pointer;\n",
              "    display: none;\n",
              "    fill: var(--fill-color);\n",
              "    height: 32px;\n",
              "    padding: 0;\n",
              "    width: 32px;\n",
              "  }\n",
              "\n",
              "  .colab-df-quickchart:hover {\n",
              "    background-color: var(--hover-bg-color);\n",
              "    box-shadow: 0 1px 2px rgba(60, 64, 67, 0.3), 0 1px 3px 1px rgba(60, 64, 67, 0.15);\n",
              "    fill: var(--button-hover-fill-color);\n",
              "  }\n",
              "\n",
              "  .colab-df-quickchart-complete:disabled,\n",
              "  .colab-df-quickchart-complete:disabled:hover {\n",
              "    background-color: var(--disabled-bg-color);\n",
              "    fill: var(--disabled-fill-color);\n",
              "    box-shadow: none;\n",
              "  }\n",
              "\n",
              "  .colab-df-spinner {\n",
              "    border: 2px solid var(--fill-color);\n",
              "    border-color: transparent;\n",
              "    border-bottom-color: var(--fill-color);\n",
              "    animation:\n",
              "      spin 1s steps(1) infinite;\n",
              "  }\n",
              "\n",
              "  @keyframes spin {\n",
              "    0% {\n",
              "      border-color: transparent;\n",
              "      border-bottom-color: var(--fill-color);\n",
              "      border-left-color: var(--fill-color);\n",
              "    }\n",
              "    20% {\n",
              "      border-color: transparent;\n",
              "      border-left-color: var(--fill-color);\n",
              "      border-top-color: var(--fill-color);\n",
              "    }\n",
              "    30% {\n",
              "      border-color: transparent;\n",
              "      border-left-color: var(--fill-color);\n",
              "      border-top-color: var(--fill-color);\n",
              "      border-right-color: var(--fill-color);\n",
              "    }\n",
              "    40% {\n",
              "      border-color: transparent;\n",
              "      border-right-color: var(--fill-color);\n",
              "      border-top-color: var(--fill-color);\n",
              "    }\n",
              "    60% {\n",
              "      border-color: transparent;\n",
              "      border-right-color: var(--fill-color);\n",
              "    }\n",
              "    80% {\n",
              "      border-color: transparent;\n",
              "      border-right-color: var(--fill-color);\n",
              "      border-bottom-color: var(--fill-color);\n",
              "    }\n",
              "    90% {\n",
              "      border-color: transparent;\n",
              "      border-bottom-color: var(--fill-color);\n",
              "    }\n",
              "  }\n",
              "</style>\n",
              "\n",
              "      <script>\n",
              "        async function quickchart(key) {\n",
              "          const quickchartButtonEl =\n",
              "            document.querySelector('#' + key + ' button');\n",
              "          quickchartButtonEl.disabled = true;  // To prevent multiple clicks.\n",
              "          quickchartButtonEl.classList.add('colab-df-spinner');\n",
              "          try {\n",
              "            const charts = await google.colab.kernel.invokeFunction(\n",
              "                'suggestCharts', [key], {});\n",
              "          } catch (error) {\n",
              "            console.error('Error during call to suggestCharts:', error);\n",
              "          }\n",
              "          quickchartButtonEl.classList.remove('colab-df-spinner');\n",
              "          quickchartButtonEl.classList.add('colab-df-quickchart-complete');\n",
              "        }\n",
              "        (() => {\n",
              "          let quickchartButtonEl =\n",
              "            document.querySelector('#df-cc78dd33-4380-4df7-aa25-0c3def74724d button');\n",
              "          quickchartButtonEl.style.display =\n",
              "            google.colab.kernel.accessAllowed ? 'block' : 'none';\n",
              "        })();\n",
              "      </script>\n",
              "    </div>\n",
              "\n",
              "    </div>\n",
              "  </div>\n"
            ],
            "application/vnd.google.colaboratory.intrinsic+json": {
              "type": "dataframe",
              "variable_name": "logR",
              "summary": "{\n  \"name\": \"logR\",\n  \"rows\": 1354,\n  \"fields\": [\n    {\n      \"column\": \"AAPL\",\n      \"properties\": {\n        \"dtype\": \"number\",\n        \"std\": 0.02061057344880196,\n        \"min\": -0.1376927064460318,\n        \"max\": 0.1426174108719208,\n        \"num_unique_values\": 1351,\n        \"samples\": [\n          -0.0021044452719372842,\n          0.01578306456453109,\n          0.01847219905302857\n        ],\n        \"semantic_type\": \"\",\n        \"description\": \"\"\n      }\n    },\n    {\n      \"column\": \"MSFT\",\n      \"properties\": {\n        \"dtype\": \"number\",\n        \"std\": 0.01929836060628136,\n        \"min\": -0.159548979767852,\n        \"max\": 0.13297171499172128,\n        \"num_unique_values\": 1353,\n        \"samples\": [\n          -0.159548979767852,\n          0.02054967599850133,\n          -0.021762195361281624\n        ],\n        \"semantic_type\": \"\",\n        \"description\": \"\"\n      }\n    },\n    {\n      \"column\": \"GOOGL\",\n      \"properties\": {\n        \"dtype\": \"number\",\n        \"std\": 0.02075908012869487,\n        \"min\": -0.12368486567039876,\n        \"max\": 0.09734517980694847,\n        \"num_unique_values\": 1353,\n        \"samples\": [\n          -0.12368486567039876,\n          -0.0248910627937159,\n          -0.00991005199684774\n        ],\n        \"semantic_type\": \"\",\n        \"description\": \"\"\n      }\n    },\n    {\n      \"column\": \"AMZN\",\n      \"properties\": {\n        \"dtype\": \"number\",\n        \"std\": 0.02289004792318913,\n        \"min\": -0.15139046973548317,\n        \"max\": 0.12694854705521322,\n        \"num_unique_values\": 1352,\n        \"samples\": [\n          -0.05519297140259527,\n          0.0018476975033634034,\n          -0.012168897821162254\n        ],\n        \"semantic_type\": \"\",\n        \"description\": \"\"\n      }\n    }\n  ]\n}"
            }
          },
          "metadata": {},
          "execution_count": 7
        }
      ]
    },
    {
      "cell_type": "markdown",
      "source": [
        "Logarithmic returns (log returns) measure the percentage change in stock prices using natural logs."
      ],
      "metadata": {
        "id": "d_ERcUFf7rIU"
      }
    },
    {
      "cell_type": "code",
      "source": [
        "# Plotting the histogram of AAPL\n",
        "logR['AAPL'].hist(bins=50,alpha=0.7)\n",
        "plt.title(\"AAPL Daily log-return distribution\")\n",
        "plt.show()"
      ],
      "metadata": {
        "colab": {
          "base_uri": "https://localhost:8080/",
          "height": 452
        },
        "id": "bcMEZ4FlIYxi",
        "outputId": "d93d21af-3488-4793-a327-ee22dc3df316"
      },
      "execution_count": null,
      "outputs": [
        {
          "output_type": "display_data",
          "data": {
            "text/plain": [
              "<Figure size 640x480 with 1 Axes>"
            ],
            "image/png": "[encoded data removed]"
          },
          "metadata": {}
        }
      ]
    },
    {
      "cell_type": "code",
      "source": [
        "# Plotting the histograms of all\n",
        "logR.hist(bins = 50)\n",
        "plt.show()"
      ],
      "metadata": {
        "colab": {
          "base_uri": "https://localhost:8080/",
          "height": 452
        },
        "id": "PqFwljy9eN_-",
        "outputId": "0f39cc3c-fb89-47ef-de35-66114e66db73"
      },
      "execution_count": null,
      "outputs": [
        {
          "output_type": "display_data",
          "data": {
            "text/plain": [
              "<Figure size 640x480 with 4 Axes>"
            ],
            "image/png": "[encoded data removed]"
          },
          "metadata": {}
        }
      ]
    },
    {
      "cell_type": "markdown",
      "source": [
        "Mean: average daily return\n",
        "\n",
        "Variance: how much returns vary\n",
        "\n",
        "Skewness: asymmetry (positive skew → fat right tail)\n",
        "\n",
        "Kurtosis: tail-heaviness (high kurtosis → more extreme days)"
      ],
      "metadata": {
        "id": "1NHjUQK-VAXT"
      }
    },
    {
      "cell_type": "code",
      "source": [
        "summary=pd.DataFrame({\n",
        "    'Mean': logR.mean(),\n",
        "    'Variance': logR.var(),\n",
        "    'Skew': logR.skew(),\n",
        "    'Kurtosis': logR.kurtosis()\n",
        "})\n",
        "summary"
      ],
      "metadata": {
        "colab": {
          "base_uri": "https://localhost:8080/",
          "height": 175
        },
        "id": "NMRcy5ZaGtxe",
        "outputId": "83570a76-7a27-405d-91fc-cd29f41022fc"
      },
      "execution_count": null,
      "outputs": [
        {
          "output_type": "execute_result",
          "data": {
            "text/plain": [
              "           Mean  Variance      Skew  Kurtosis\n",
              "AAPL   0.000752  0.000425  0.020390  6.226807\n",
              "MSFT   0.000802  0.000372 -0.164616  7.430717\n",
              "GOOGL  0.000678  0.000431 -0.227661  3.636135\n",
              "AMZN   0.000562  0.000524 -0.069501  4.160446"
            ],
            "text/html": [
              "\n",
              "  <div id=\"df-06c4a6c5-9063-439c-8a2d-63951bfe99f5\" class=\"colab-df-container\">\n",
              "    <div>\n",
              "<style scoped>\n",
              "    .dataframe tbody tr th:only-of-type {\n",
              "        vertical-align: middle;\n",
              "    }\n",
              "\n",
              "    .dataframe tbody tr th {\n",
              "        vertical-align: top;\n",
              "    }\n",
              "\n",
              "    .dataframe thead th {\n",
              "        text-align: right;\n",
              "    }\n",
              "</style>\n",
              "<table border=\"1\" class=\"dataframe\">\n",
              "  <thead>\n",
              "    <tr style=\"text-align: right;\">\n",
              "      <th></th>\n",
              "      <th>Mean</th>\n",
              "      <th>Variance</th>\n",
              "      <th>Skew</th>\n",
              "      <th>Kurtosis</th>\n",
              "    </tr>\n",
              "  </thead>\n",
              "  <tbody>\n",
              "    <tr>\n",
              "      <th>AAPL</th>\n",
              "      <td>0.000752</td>\n",
              "      <td>0.000425</td>\n",
              "      <td>0.020390</td>\n",
              "      <td>6.226807</td>\n",
              "    </tr>\n",
              "    <tr>\n",
              "      <th>MSFT</th>\n",
              "      <td>0.000802</td>\n",
              "      <td>0.000372</td>\n",
              "      <td>-0.164616</td>\n",
              "      <td>7.430717</td>\n",
              "    </tr>\n",
              "    <tr>\n",
              "      <th>GOOGL</th>\n",
              "      <td>0.000678</td>\n",
              "      <td>0.000431</td>\n",
              "      <td>-0.227661</td>\n",
              "      <td>3.636135</td>\n",
              "    </tr>\n",
              "    <tr>\n",
              "      <th>AMZN</th>\n",
              "      <td>0.000562</td>\n",
              "      <td>0.000524</td>\n",
              "      <td>-0.069501</td>\n",
              "      <td>4.160446</td>\n",
              "    </tr>\n",
              "  </tbody>\n",
              "</table>\n",
              "</div>\n",
              "    <div class=\"colab-df-buttons\">\n",
              "\n",
              "  <div class=\"colab-df-container\">\n",
              "    <button class=\"colab-df-convert\" onclick=\"convertToInteractive('df-06c4a6c5-9063-439c-8a2d-63951bfe99f5')\"\n",
              "            title=\"Convert this dataframe to an interactive table.\"\n",
              "            style=\"display:none;\">\n",
              "\n",
              "  <svg xmlns=\"http://www.w3.org/2000/svg\" height=\"24px\" viewBox=\"0 -960 960 960\">\n",
              "    <path d=\"M120-120v-720h720v720H120Zm60-500h600v-160H180v160Zm220 220h160v-160H400v160Zm0 220h160v-160H400v160ZM180-400h160v-160H180v160Zm440 0h160v-160H620v160ZM180-180h160v-160H180v160Zm440 0h160v-160H620v160Z\"/>\n",
              "  </svg>\n",
              "    </button>\n",
              "\n",
              "  <style>\n",
              "    .colab-df-container {\n",
              "      display:flex;\n",
              "      gap: 12px;\n",
              "    }\n",
              "\n",
              "    .colab-df-convert {\n",
              "      background-color: #E8F0FE;\n",
              "      border: none;\n",
              "      border-radius: 50%;\n",
              "      cursor: pointer;\n",
              "      display: none;\n",
              "      fill: #1967D2;\n",
              "      height: 32px;\n",
              "      padding: 0 0 0 0;\n",
              "      width: 32px;\n",
              "    }\n",
              "\n",
              "    .colab-df-convert:hover {\n",
              "      background-color: #E2EBFA;\n",
              "      box-shadow: 0px 1px 2px rgba(60, 64, 67, 0.3), 0px 1px 3px 1px rgba(60, 64, 67, 0.15);\n",
              "      fill: #174EA6;\n",
              "    }\n",
              "\n",
              "    .colab-df-buttons div {\n",
              "      margin-bottom: 4px;\n",
              "    }\n",
              "\n",
              "    [theme=dark] .colab-df-convert {\n",
              "      background-color: #3B4455;\n",
              "      fill: #D2E3FC;\n",
              "    }\n",
              "\n",
              "    [theme=dark] .colab-df-convert:hover {\n",
              "      background-color: #434B5C;\n",
              "      box-shadow: 0px 1px 3px 1px rgba(0, 0, 0, 0.15);\n",
              "      filter: drop-shadow(0px 1px 2px rgba(0, 0, 0, 0.3));\n",
              "      fill: #FFFFFF;\n",
              "    }\n",
              "  </style>\n",
              "\n",
              "    <script>\n",
              "      const buttonEl =\n",
              "        document.querySelector('#df-06c4a6c5-9063-439c-8a2d-63951bfe99f5 button.colab-df-convert');\n",
              "      buttonEl.style.display =\n",
              "        google.colab.kernel.accessAllowed ? 'block' : 'none';\n",
              "\n",
              "      async function convertToInteractive(key) {\n",
              "        const element = document.querySelector('#df-06c4a6c5-9063-439c-8a2d-63951bfe99f5');\n",
              "        const dataTable =\n",
              "          await google.colab.kernel.invokeFunction('convertToInteractive',\n",
              "                                                    [key], {});\n",
              "        if (!dataTable) return;\n",
              "\n",
              "        const docLinkHtml = 'Like what you see? Visit the ' +\n",
              "          '<a target=\"_blank\" href=https://colab.research.google.com/notebooks/data_table.ipynb>data table notebook</a>'\n",
              "          + ' to learn more about interactive tables.';\n",
              "        element.innerHTML = '';\n",
              "        dataTable['output_type'] = 'display_data';\n",
              "        await google.colab.output.renderOutput(dataTable, element);\n",
              "        const docLink = document.createElement('div');\n",
              "        docLink.innerHTML = docLinkHtml;\n",
              "        element.appendChild(docLink);\n",
              "      }\n",
              "    </script>\n",
              "  </div>\n",
              "\n",
              "\n",
              "    <div id=\"df-4cba37fc-404a-4de9-8145-4bf388af22ac\">\n",
              "      <button class=\"colab-df-quickchart\" onclick=\"quickchart('df-4cba37fc-404a-4de9-8145-4bf388af22ac')\"\n",
              "                title=\"Suggest charts\"\n",
              "                style=\"display:none;\">\n",
              "\n",
              "<svg xmlns=\"http://www.w3.org/2000/svg\" height=\"24px\"viewBox=\"0 0 24 24\"\n",
              "     width=\"24px\">\n",
              "    <g>\n",
              "        <path d=\"M19 3H5c-1.1 0-2 .9-2 2v14c0 1.1.9 2 2 2h14c1.1 0 2-.9 2-2V5c0-1.1-.9-2-2-2zM9 17H7v-7h2v7zm4 0h-2V7h2v10zm4 0h-2v-4h2v4z\"/>\n",
              "    </g>\n",
              "</svg>\n",
              "      </button>\n",
              "\n",
              "<style>\n",
              "  .colab-df-quickchart {\n",
              "      --bg-color: #E8F0FE;\n",
              "      --fill-color: #1967D2;\n",
              "      --hover-bg-color: #E2EBFA;\n",
              "      --hover-fill-color: #174EA6;\n",
              "      --disabled-fill-color: #AAA;\n",
              "      --disabled-bg-color: #DDD;\n",
              "  }\n",
              "\n",
              "  [theme=dark] .colab-df-quickchart {\n",
              "      --bg-color: #3B4455;\n",
              "      --fill-color: #D2E3FC;\n",
              "      --hover-bg-color: #434B5C;\n",
              "      --hover-fill-color: #FFFFFF;\n",
              "      --disabled-bg-color: #3B4455;\n",
              "      --disabled-fill-color: #666;\n",
              "  }\n",
              "\n",
              "  .colab-df-quickchart {\n",
              "    background-color: var(--bg-color);\n",
              "    border: none;\n",
              "    border-radius: 50%;\n",
              "    cursor: pointer;\n",
              "    display: none;\n",
              "    fill: var(--fill-color);\n",
              "    height: 32px;\n",
              "    padding: 0;\n",
              "    width: 32px;\n",
              "  }\n",
              "\n",
              "  .colab-df-quickchart:hover {\n",
              "    background-color: var(--hover-bg-color);\n",
              "    box-shadow: 0 1px 2px rgba(60, 64, 67, 0.3), 0 1px 3px 1px rgba(60, 64, 67, 0.15);\n",
              "    fill: var(--button-hover-fill-color);\n",
              "  }\n",
              "\n",
              "  .colab-df-quickchart-complete:disabled,\n",
              "  .colab-df-quickchart-complete:disabled:hover {\n",
              "    background-color: var(--disabled-bg-color);\n",
              "    fill: var(--disabled-fill-color);\n",
              "    box-shadow: none;\n",
              "  }\n",
              "\n",
              "  .colab-df-spinner {\n",
              "    border: 2px solid var(--fill-color);\n",
              "    border-color: transparent;\n",
              "    border-bottom-color: var(--fill-color);\n",
              "    animation:\n",
              "      spin 1s steps(1) infinite;\n",
              "  }\n",
              "\n",
              "  @keyframes spin {\n",
              "    0% {\n",
              "      border-color: transparent;\n",
              "      border-bottom-color: var(--fill-color);\n",
              "      border-left-color: var(--fill-color);\n",
              "    }\n",
              "    20% {\n",
              "      border-color: transparent;\n",
              "      border-left-color: var(--fill-color);\n",
              "      border-top-color: var(--fill-color);\n",
              "    }\n",
              "    30% {\n",
              "      border-color: transparent;\n",
              "      border-left-color: var(--fill-color);\n",
              "      border-top-color: var(--fill-color);\n",
              "      border-right-color: var(--fill-color);\n",
              "    }\n",
              "    40% {\n",
              "      border-color: transparent;\n",
              "      border-right-color: var(--fill-color);\n",
              "      border-top-color: var(--fill-color);\n",
              "    }\n",
              "    60% {\n",
              "      border-color: transparent;\n",
              "      border-right-color: var(--fill-color);\n",
              "    }\n",
              "    80% {\n",
              "      border-color: transparent;\n",
              "      border-right-color: var(--fill-color);\n",
              "      border-bottom-color: var(--fill-color);\n",
              "    }\n",
              "    90% {\n",
              "      border-color: transparent;\n",
              "      border-bottom-color: var(--fill-color);\n",
              "    }\n",
              "  }\n",
              "</style>\n",
              "\n",
              "      <script>\n",
              "        async function quickchart(key) {\n",
              "          const quickchartButtonEl =\n",
              "            document.querySelector('#' + key + ' button');\n",
              "          quickchartButtonEl.disabled = true;  // To prevent multiple clicks.\n",
              "          quickchartButtonEl.classList.add('colab-df-spinner');\n",
              "          try {\n",
              "            const charts = await google.colab.kernel.invokeFunction(\n",
              "                'suggestCharts', [key], {});\n",
              "          } catch (error) {\n",
              "            console.error('Error during call to suggestCharts:', error);\n",
              "          }\n",
              "          quickchartButtonEl.classList.remove('colab-df-spinner');\n",
              "          quickchartButtonEl.classList.add('colab-df-quickchart-complete');\n",
              "        }\n",
              "        (() => {\n",
              "          let quickchartButtonEl =\n",
              "            document.querySelector('#df-4cba37fc-404a-4de9-8145-4bf388af22ac button');\n",
              "          quickchartButtonEl.style.display =\n",
              "            google.colab.kernel.accessAllowed ? 'block' : 'none';\n",
              "        })();\n",
              "      </script>\n",
              "    </div>\n",
              "\n",
              "  <div id=\"id_8b3a96dc-c5c0-42c9-ab2a-1062d4c639e2\">\n",
              "    <style>\n",
              "      .colab-df-generate {\n",
              "        background-color: #E8F0FE;\n",
              "        border: none;\n",
              "        border-radius: 50%;\n",
              "        cursor: pointer;\n",
              "        display: none;\n",
              "        fill: #1967D2;\n",
              "        height: 32px;\n",
              "        padding: 0 0 0 0;\n",
              "        width: 32px;\n",
              "      }\n",
              "\n",
              "      .colab-df-generate:hover {\n",
              "        background-color: #E2EBFA;\n",
              "        box-shadow: 0px 1px 2px rgba(60, 64, 67, 0.3), 0px 1px 3px 1px rgba(60, 64, 67, 0.15);\n",
              "        fill: #174EA6;\n",
              "      }\n",
              "\n",
              "      [theme=dark] .colab-df-generate {\n",
              "        background-color: #3B4455;\n",
              "        fill: #D2E3FC;\n",
              "      }\n",
              "\n",
              "      [theme=dark] .colab-df-generate:hover {\n",
              "        background-color: #434B5C;\n",
              "        box-shadow: 0px 1px 3px 1px rgba(0, 0, 0, 0.15);\n",
              "        filter: drop-shadow(0px 1px 2px rgba(0, 0, 0, 0.3));\n",
              "        fill: #FFFFFF;\n",
              "      }\n",
              "    </style>\n",
              "    <button class=\"colab-df-generate\" onclick=\"generateWithVariable('summary')\"\n",
              "            title=\"Generate code using this dataframe.\"\n",
              "            style=\"display:none;\">\n",
              "\n",
              "  <svg xmlns=\"http://www.w3.org/2000/svg\" height=\"24px\"viewBox=\"0 0 24 24\"\n",
              "       width=\"24px\">\n",
              "    <path d=\"M7,19H8.4L18.45,9,17,7.55,7,17.6ZM5,21V16.75L18.45,3.32a2,2,0,0,1,2.83,0l1.4,1.43a1.91,1.91,0,0,1,.58,1.4,1.91,1.91,0,0,1-.58,1.4L9.25,21ZM18.45,9,17,7.55Zm-12,3A5.31,5.31,0,0,0,4.9,8.1,5.31,5.31,0,0,0,1,6.5,5.31,5.31,0,0,0,4.9,4.9,5.31,5.31,0,0,0,6.5,1,5.31,5.31,0,0,0,8.1,4.9,5.31,5.31,0,0,0,12,6.5,5.46,5.46,0,0,0,6.5,12Z\"/>\n",
              "  </svg>\n",
              "    </button>\n",
              "    <script>\n",
              "      (() => {\n",
              "      const buttonEl =\n",
              "        document.querySelector('#id_8b3a96dc-c5c0-42c9-ab2a-1062d4c639e2 button.colab-df-generate');\n",
              "      buttonEl.style.display =\n",
              "        google.colab.kernel.accessAllowed ? 'block' : 'none';\n",
              "\n",
              "      buttonEl.onclick = () => {\n",
              "        google.colab.notebook.generateWithVariable('summary');\n",
              "      }\n",
              "      })();\n",
              "    </script>\n",
              "  </div>\n",
              "\n",
              "    </div>\n",
              "  </div>\n"
            ],
            "application/vnd.google.colaboratory.intrinsic+json": {
              "type": "dataframe",
              "variable_name": "summary",
              "summary": "{\n  \"name\": \"summary\",\n  \"rows\": 4,\n  \"fields\": [\n    {\n      \"column\": \"Mean\",\n      \"properties\": {\n        \"dtype\": \"number\",\n        \"std\": 0.00010423545712144288,\n        \"min\": 0.0005619420194094823,\n        \"max\": 0.0008017379813496317,\n        \"num_unique_values\": 4,\n        \"samples\": [\n          0.0008017379813496317,\n          0.0005619420194094823,\n          0.0007522389459077052\n        ],\n        \"semantic_type\": \"\",\n        \"description\": \"\"\n      }\n    },\n    {\n      \"column\": \"Variance\",\n      \"properties\": {\n        \"dtype\": \"number\",\n        \"std\": 6.301374597932089e-05,\n        \"min\": 0.0003724267220900723,\n        \"max\": 0.000523954293925895,\n        \"num_unique_values\": 4,\n        \"samples\": [\n          0.0003724267220900723,\n          0.000523954293925895,\n          0.0004247957378884604\n        ],\n        \"semantic_type\": \"\",\n        \"description\": \"\"\n      }\n    },\n    {\n      \"column\": \"Skew\",\n      \"properties\": {\n        \"dtype\": \"number\",\n        \"std\": 0.10873234900458649,\n        \"min\": -0.22766059788555204,\n        \"max\": 0.020390006583550602,\n        \"num_unique_values\": 4,\n        \"samples\": [\n          -0.16461615004600788,\n          -0.06950112659553616,\n          0.020390006583550602\n        ],\n        \"semantic_type\": \"\",\n        \"description\": \"\"\n      }\n    },\n    {\n      \"column\": \"Kurtosis\",\n      \"properties\": {\n        \"dtype\": \"number\",\n        \"std\": 1.774806359866894,\n        \"min\": 3.6361353737883673,\n        \"max\": 7.43071714926074,\n        \"num_unique_values\": 4,\n        \"samples\": [\n          7.43071714926074,\n          4.16044633487685,\n          6.226807264324938\n        ],\n        \"semantic_type\": \"\",\n        \"description\": \"\"\n      }\n    }\n  ]\n}"
            }
          },
          "metadata": {},
          "execution_count": 10
        }
      ]
    },
    {
      "cell_type": "markdown",
      "source": [
        "Mean (≈0.05–0.08%): On average each stock’s daily return was very small—about a few‐tenths of a percent gain per day.**bold text**\n",
        "\n",
        "Variance (≈0.0004): Typical daily swings are around √0.0004 ≃ 2%, so most days see moves of a couple percent.\n",
        "\n",
        "Skewness (near zero or slightly negative): Returns are roughly symmetric, with a small tendency toward bigger down‐moves than up‐moves.\n",
        "\n",
        "Kurtosis (>3): All four have “fat tails,” meaning they experience more extreme one‐day jumps or crashes than a normal bell curve would predict."
      ],
      "metadata": {
        "id": "1P1v1Fj4VG3j"
      }
    },
    {
      "cell_type": "markdown",
      "source": [
        "Normal Fit"
      ],
      "metadata": {
        "id": "NulitEPujt9u"
      }
    },
    {
      "cell_type": "code",
      "source": [
        "# Calculate U and std deviation\n",
        "mu_norm, sigma_norm = logR.stack().mean(), logR.stack().std(ddof=1)\n",
        "# 95% CI for mean under Normal: μ ± z*·σ/√N\n",
        "N = logR.size\n",
        "z95 = stats.norm.ppf(0.975)\n",
        "ci_mu_norm = (mu_norm - z95*sigma_norm/np.sqrt(N),\n",
        "              mu_norm + z95*sigma_norm/np.sqrt(N))\n",
        "\n",
        "\n",
        "# 95% CI for σ via Chi-square:\n",
        "df = N-1\n",
        "chi2_low, chi2_high = stats.chi2.ppf([0.025,0.975], df)\n",
        "ci_sigma_norm = (sigma_norm*np.sqrt(df/chi2_high),\n",
        "                 sigma_norm*np.sqrt(df/chi2_low))\n",
        "\n",
        "print(\"Normal fit:\")\n",
        "print(f\"  μ = {mu_norm:.5f}, 95% CI {ci_mu_norm}\")\n",
        "print(f\"  σ = {sigma_norm:.5f}, 95% CI {ci_sigma_norm}\")"
      ],
      "metadata": {
        "colab": {
          "base_uri": "https://localhost:8080/"
        },
        "id": "uL6JZxsUKfdA",
        "outputId": "3c754afc-2edb-42b8-9906-a6e2d4430375"
      },
      "execution_count": null,
      "outputs": [
        {
          "output_type": "stream",
          "name": "stdout",
          "text": [
            "Normal fit:\n",
            "  μ = 0.00070, 95% CI (np.float64(0.00014135581013294892), np.float64(0.0012558400131748955))\n",
            "  σ = 0.02092, 95% CI (np.float64(0.02053681862658147), np.float64(0.02132521057520147))\n"
          ]
        }
      ]
    },
    {
      "cell_type": "code",
      "source": [
        "returns_flat=logR.stack().values\n",
        "returns_flat"
      ],
      "metadata": {
        "colab": {
          "base_uri": "https://localhost:8080/"
        },
        "id": "fTywQZJNQyy9",
        "outputId": "2ab4e2d6-059d-46d0-b657-d372dfcfcbdc"
      },
      "execution_count": null,
      "outputs": [
        {
          "output_type": "execute_result",
          "data": {
            "text/plain": [
              "array([-0.00973699, -0.01236019, -0.00524347, ...,  0.00504723,\n",
              "        0.01361126,  0.00979672])"
            ]
          },
          "metadata": {},
          "execution_count": 12
        }
      ]
    },
    {
      "cell_type": "markdown",
      "metadata": {
        "id": "6bc982b4"
      },
      "source": [
        "Finding mean and sigma with t distribution"
      ]
    },
    {
      "cell_type": "code",
      "source": [
        "# Fit student's t\n",
        "df_t,mu_t,sigma_t=stats.t.fit(returns_flat)\n",
        "print(df_t,mu_t,sigma_t)"
      ],
      "metadata": {
        "colab": {
          "base_uri": "https://localhost:8080/"
        },
        "id": "FG1scQjDUg-O",
        "outputId": "7fe4fb36-07a4-4d5a-f4aa-3fb83e9042bd"
      },
      "execution_count": null,
      "outputs": [
        {
          "output_type": "stream",
          "name": "stdout",
          "text": [
            "3.6546646101861917 0.0010493773461387728 0.014469386072158637\n"
          ]
        }
      ]
    },
    {
      "cell_type": "markdown",
      "source": [
        "Step 1:Bootstrapping Setup\n"
      ],
      "metadata": {
        "id": "oOCU03ruW0jl"
      }
    },
    {
      "cell_type": "markdown",
      "source": [
        "We take 1,000 random samples from the dataset to generate multiple estimates. This step is crucial because it reduces the impact of outliers and helps us make more reliable and confident conclusions from the data."
      ],
      "metadata": {
        "id": "_LSUGwzlj6z9"
      }
    },
    {
      "cell_type": "markdown",
      "source": [
        "Fit t-distribution for each resample and store estimates for later CI calculation."
      ],
      "metadata": {
        "id": "VGtQjwx6ABPQ"
      }
    },
    {
      "cell_type": "code",
      "source": [
        "B=1000\n",
        "estimates=np.array([\n",
        "    stats.t.fit(np.random.choice(returns_flat,size=N,replace=True))\n",
        "    for _ in range(B)\n",
        "])"
      ],
      "metadata": {
        "id": "BySnlj_jW5Iq"
      },
      "execution_count": null,
      "outputs": []
    },
    {
      "cell_type": "code",
      "source": [
        "ci_mu_t=np.percentile(estimates[:,1],[2.5,97.5])\n",
        "ci_sigma_t=np.percentile(estimates[:,2],[2.5,97.5])\n",
        "print(\"\\nStudent’s t fit:\")\n",
        "print(f\"  df = {df_t:.1f}, μ = {mu_t:.5f},  σ = {sigma_t:.5f}\")\n",
        "print(f\"  95% CI for μ (bootstrap): {ci_mu_t}\")\n",
        "print(f\"  95% CI for σ (bootstrap): {ci_sigma_t}\")"
      ],
      "metadata": {
        "id": "HilfHmKDXNGs",
        "colab": {
          "base_uri": "https://localhost:8080/"
        },
        "outputId": "889de2be-daa1-4fe1-c80c-5ff9dc8d7b0e"
      },
      "execution_count": null,
      "outputs": [
        {
          "output_type": "stream",
          "name": "stdout",
          "text": [
            "\n",
            "Student’s t fit:\n",
            "  df = 3.7, μ = 0.00105,  σ = 0.01447\n",
            "  95% CI for μ (bootstrap): [0.00057743 0.00148452]\n",
            "  95% CI for σ (bootstrap): [0.0139782 0.0149552]\n"
          ]
        }
      ]
    },
    {
      "cell_type": "markdown",
      "source": [
        "## VAR With normal distribution"
      ],
      "metadata": {
        "id": "zFYOtGvoBxMB"
      }
    },
    {
      "cell_type": "markdown",
      "source": [
        "### Portfolio Returns\n",
        "Multiplying the log returns of the stocks with their weights we get the portfolio returns"
      ],
      "metadata": {
        "id": "tveUtueVkLyB"
      }
    },
    {
      "cell_type": "code",
      "source": [
        "portR=logR.dot(weights)\n",
        "portR"
      ],
      "metadata": {
        "colab": {
          "base_uri": "https://localhost:8080/",
          "height": 458
        },
        "id": "yoboYPuF_b2F",
        "outputId": "254e540f-cb0c-4c51-c310-1572c1ab6a54"
      },
      "execution_count": null,
      "outputs": [
        {
          "output_type": "execute_result",
          "data": {
            "text/plain": [
              "2020-01-03   -0.009888\n",
              "2020-01-06    0.012885\n",
              "2020-01-07   -0.003453\n",
              "2020-01-08    0.007801\n",
              "2020-01-09    0.012131\n",
              "                ...   \n",
              "2025-05-16    0.004292\n",
              "2025-05-19    0.000785\n",
              "2025-05-20   -0.009112\n",
              "2025-05-21   -0.005660\n",
              "2025-05-22    0.006209\n",
              "Length: 1354, dtype: float64"
            ],
            "text/html": [
              "<div>\n",
              "<style scoped>\n",
              "    .dataframe tbody tr th:only-of-type {\n",
              "        vertical-align: middle;\n",
              "    }\n",
              "\n",
              "    .dataframe tbody tr th {\n",
              "        vertical-align: top;\n",
              "    }\n",
              "\n",
              "    .dataframe thead th {\n",
              "        text-align: right;\n",
              "    }\n",
              "</style>\n",
              "<table border=\"1\" class=\"dataframe\">\n",
              "  <thead>\n",
              "    <tr style=\"text-align: right;\">\n",
              "      <th></th>\n",
              "      <th>0</th>\n",
              "    </tr>\n",
              "  </thead>\n",
              "  <tbody>\n",
              "    <tr>\n",
              "      <th>2020-01-03</th>\n",
              "      <td>-0.009888</td>\n",
              "    </tr>\n",
              "    <tr>\n",
              "      <th>2020-01-06</th>\n",
              "      <td>0.012885</td>\n",
              "    </tr>\n",
              "    <tr>\n",
              "      <th>2020-01-07</th>\n",
              "      <td>-0.003453</td>\n",
              "    </tr>\n",
              "    <tr>\n",
              "      <th>2020-01-08</th>\n",
              "      <td>0.007801</td>\n",
              "    </tr>\n",
              "    <tr>\n",
              "      <th>2020-01-09</th>\n",
              "      <td>0.012131</td>\n",
              "    </tr>\n",
              "    <tr>\n",
              "      <th>...</th>\n",
              "      <td>...</td>\n",
              "    </tr>\n",
              "    <tr>\n",
              "      <th>2025-05-16</th>\n",
              "      <td>0.004292</td>\n",
              "    </tr>\n",
              "    <tr>\n",
              "      <th>2025-05-19</th>\n",
              "      <td>0.000785</td>\n",
              "    </tr>\n",
              "    <tr>\n",
              "      <th>2025-05-20</th>\n",
              "      <td>-0.009112</td>\n",
              "    </tr>\n",
              "    <tr>\n",
              "      <th>2025-05-21</th>\n",
              "      <td>-0.005660</td>\n",
              "    </tr>\n",
              "    <tr>\n",
              "      <th>2025-05-22</th>\n",
              "      <td>0.006209</td>\n",
              "    </tr>\n",
              "  </tbody>\n",
              "</table>\n",
              "<p>1354 rows × 1 columns</p>\n",
              "</div><br><label><b>dtype:</b> float64</label>"
            ]
          },
          "metadata": {},
          "execution_count": 16
        }
      ]
    },
    {
      "cell_type": "markdown",
      "source": [
        "Z_score"
      ],
      "metadata": {
        "id": "FpEudJxxkS69"
      }
    },
    {
      "cell_type": "code",
      "source": [
        "mu_p=portR.mean()\n",
        "sigma_p=portR.std(ddof=1)\n",
        "print(mu_p,sigma_p )"
      ],
      "metadata": {
        "colab": {
          "base_uri": "https://localhost:8080/"
        },
        "id": "0OsC9asp_gdk",
        "outputId": "5b1f67d6-c1b3-4e60-ff7f-373a48e18861"
      },
      "execution_count": null,
      "outputs": [
        {
          "output_type": "stream",
          "name": "stdout",
          "text": [
            "0.0006985979116539223 0.01816307307599588\n"
          ]
        }
      ]
    },
    {
      "cell_type": "code",
      "source": [
        "z05=stats.norm.ppf(0.05)\n",
        "#VaR with 95%\n",
        "vaR_norm=-(mu_p+sigma_p*z05)\n",
        "print(vaR_norm)"
      ],
      "metadata": {
        "colab": {
          "base_uri": "https://localhost:8080/"
        },
        "id": "rrzXrE3eAYdh",
        "outputId": "3f56a2bf-8fb4-4513-8ff2-d5abcfff0f6a"
      },
      "execution_count": null,
      "outputs": [
        {
          "output_type": "stream",
          "name": "stdout",
          "text": [
            "0.02917699871398255\n"
          ]
        }
      ]
    },
    {
      "cell_type": "markdown",
      "source": [
        "With 95% confidence, losses exceeding this VaR value are not expected within one day."
      ],
      "metadata": {
        "id": "dJ5cDLgz_1qN"
      }
    },
    {
      "cell_type": "markdown",
      "source": [
        "## Parametric VaR  - Students's t\n",
        "\n",
        "- Fits a Student's t distribution to the return data.  \n",
        "- This approach is more conservative for fat-tailed distributions, accounting for heavier tails and increased risk."
      ],
      "metadata": {
        "id": "WnXQvl0bCh8F"
      }
    },
    {
      "cell_type": "code",
      "source": [
        "# Fit student's t\n",
        "df_t,mu_t,sigma_t=stats.t.fit(returns_flat)\n",
        "print(df_t,mu_t,sigma_t)\n",
        "\n",
        "t05=stats.t.ppf(0.05,df_t)\n",
        "vaR_t=-(mu_t+sigma_t*t05)*1\n",
        "print(vaR_t)"
      ],
      "metadata": {
        "colab": {
          "base_uri": "https://localhost:8080/"
        },
        "id": "MPEyNwdsAgSE",
        "outputId": "a1032f92-ec50-4b2a-c2cb-588739fc596d"
      },
      "execution_count": null,
      "outputs": [
        {
          "output_type": "stream",
          "name": "stdout",
          "text": [
            "3.6546646101861917 0.0010493773461387728 0.014469386072158637\n",
            "0.03065396154289155\n"
          ]
        }
      ]
    },
    {
      "cell_type": "markdown",
      "source": [
        "## Historical Method(non-parametric):\n",
        "\n",
        "Calculates VaR (historical) as the **negative 5th percentile** of actual return data.\n",
        "\n",
        "This method makes **no distributional assumptions** and is based solely on historical losses.\n"
      ],
      "metadata": {
        "id": "Au5P2GGgFRCW"
      }
    },
    {
      "cell_type": "code",
      "source": [
        "hist_var=-np.percentile(portR,5)\n",
        "print(hist_var)"
      ],
      "metadata": {
        "colab": {
          "base_uri": "https://localhost:8080/"
        },
        "id": "kjpNJ5naD2LL",
        "outputId": "aef19dcb-82e0-415c-869a-858de58149d3"
      },
      "execution_count": null,
      "outputs": [
        {
          "output_type": "stream",
          "name": "stdout",
          "text": [
            "0.028926594256303912\n"
          ]
        }
      ]
    },
    {
      "cell_type": "code",
      "source": [
        "print(\"1-Day 95% VaR:\")\n",
        "print(f\"  Parametric (Normal):       {vaR_norm:.5f}\")\n",
        "print(f\"  Parametric (Student’s t):  {vaR_t:.5f}\")\n",
        "print(f\"  Historical (5th percentile): {hist_var:.5f}\")"
      ],
      "metadata": {
        "colab": {
          "base_uri": "https://localhost:8080/"
        },
        "id": "InE0uWmBkwcY",
        "outputId": "005d99c5-7825-4e39-cf1e-7a95760aad20"
      },
      "execution_count": null,
      "outputs": [
        {
          "output_type": "stream",
          "name": "stdout",
          "text": [
            "1-Day 95% VaR:\n",
            "  Parametric (Normal):       0.02918\n",
            "  Parametric (Student’s t):  0.03065\n",
            "  Historical (5th percentile): 0.02893\n"
          ]
        }
      ]
    },
    {
      "cell_type": "markdown",
      "source": [
        "### Hypothesis Test on Portfolio Return\n",
        "\n",
        "- **Null Hypothesis (H₀):** The portfolio’s mean return is zero.  \n",
        "- A t-test is used to determine if the mean return significantly differs from zero.  \n",
        "- If the p-value is less than 0.05, we reject H₀, indicating that the mean return is likely non-zero.\n"
      ],
      "metadata": {
        "id": "jq_N8iosIb-A"
      }
    },
    {
      "cell_type": "code",
      "source": [
        "t_stat,p_val=stats.ttest_1samp(portR,0.0)"
      ],
      "metadata": {
        "id": "kiA2rl9xHPCf"
      },
      "execution_count": null,
      "outputs": []
    },
    {
      "cell_type": "code",
      "source": [
        "print(\"One-sample t-test on portfolio daily returns:\")\n",
        "print(f\"  t-statistic = {t_stat:.3f},  p-value = {p_val}\")"
      ],
      "metadata": {
        "colab": {
          "base_uri": "https://localhost:8080/"
        },
        "id": "J2E1MuOCL1mi",
        "outputId": "bb258c08-ed14-48de-ab54-dea55ae592f7"
      },
      "execution_count": null,
      "outputs": [
        {
          "output_type": "stream",
          "name": "stdout",
          "text": [
            "One-sample t-test on portfolio daily returns:\n",
            "  t-statistic = 1.415,  p-value = 0.15721184414606912\n"
          ]
        }
      ]
    },
    {
      "cell_type": "code",
      "source": [
        "if p_val<0.05:\n",
        "  print(\"Reject the null hypothesis\")\n",
        "else:\n",
        "  print(\"Fail to reject the null hypothesis\")"
      ],
      "metadata": {
        "colab": {
          "base_uri": "https://localhost:8080/"
        },
        "id": "b1-T0gyQL8z4",
        "outputId": "2488242c-8ebd-49f3-825d-302199b4d724"
      },
      "execution_count": null,
      "outputs": [
        {
          "output_type": "stream",
          "name": "stdout",
          "text": [
            "Fail to reject the null hypothesis\n"
          ]
        }
      ]
    },
    {
      "cell_type": "markdown",
      "source": [
        "Correlation matrix"
      ],
      "metadata": {
        "id": "l48jckcjW9P_"
      }
    },
    {
      "cell_type": "code",
      "source": [
        "#7. correlation and diversification\n",
        "\n",
        "#a)correlation heatmap\n",
        "corr=logR.corr()\n",
        "plt.figure(figsize=(6,5))\n",
        "sns.heatmap(corr,annot=True,cmap='coolwarm',vmin=-1,vmax=1)\n",
        "plt.title('Correlation Heatmap')\n",
        "plt.show()\n",
        "\n",
        "#b)\n",
        "sigma_i = logR.std()\n",
        "sigma_weighted = np.dot(weights, sigma_i)\n",
        "sigma_portfolio = sigma_p\n",
        "print(f\"Weighted avg sigma: {sigma_weighted:.4f}\")\n",
        "print(f\"Actual Portfolio: {sigma_portfolio:.4f}\")\n",
        "print(f\"Diversification benefit: {sigma_weighted-sigma_portfolio:.4f}\")\n"
      ],
      "metadata": {
        "id": "iXmJUKEQXUqO",
        "colab": {
          "base_uri": "https://localhost:8080/",
          "height": 520
        },
        "outputId": "0be7e3c7-5855-4668-ab8c-522ac19023ff"
      },
      "execution_count": null,
      "outputs": [
        {
          "output_type": "display_data",
          "data": {
            "text/plain": [
              "<Figure size 600x500 with 2 Axes>"
            ],
            "image/png": "[encoded data removed]"
          },
          "metadata": {}
        },
        {
          "output_type": "stream",
          "name": "stdout",
          "text": [
            "Weighted avg sigma: 0.0209\n",
            "Actual Portfolio: 0.0182\n",
            "Diversification benefit: 0.0027\n"
          ]
        }
      ]
    },
    {
      "cell_type": "markdown",
      "source": [
        "- A lower portfolio standard deviation indicates improved diversification."
      ],
      "metadata": {
        "id": "PjVOwEcL-v1L"
      }
    },
    {
      "cell_type": "markdown",
      "source": [
        "## Cumulative Returns & Portfolio Growth\n",
        "\n",
        "- `cum_ret`: Computes the cumulative return for each individual asset.  \n",
        "- `cum_port`: Calculates the cumulative portfolio return by compounding the daily returns over time.\n",
        "\n"
      ],
      "metadata": {
        "id": "PC1SRjDfcAJL"
      }
    },
    {
      "cell_type": "code",
      "source": [
        "cum_ret=(price/price.iloc[0]).prod(axis=1)"
      ],
      "metadata": {
        "id": "kc32ILCGXhkg"
      },
      "execution_count": null,
      "outputs": []
    },
    {
      "cell_type": "code",
      "source": [
        "cum_port=(portR+1).cumprod()\n",
        "cum_port"
      ],
      "metadata": {
        "colab": {
          "base_uri": "https://localhost:8080/",
          "height": 458
        },
        "id": "KAq4PORZc_H8",
        "outputId": "0554c251-6b07-40f3-a192-6ff1cd819c6a"
      },
      "execution_count": null,
      "outputs": [
        {
          "output_type": "execute_result",
          "data": {
            "text/plain": [
              "2020-01-03    0.990112\n",
              "2020-01-06    1.002869\n",
              "2020-01-07    0.999406\n",
              "2020-01-08    1.007203\n",
              "2020-01-09    1.019421\n",
              "                ...   \n",
              "2025-05-16    2.074619\n",
              "2025-05-19    2.076247\n",
              "2025-05-20    2.057330\n",
              "2025-05-21    2.045685\n",
              "2025-05-22    2.058387\n",
              "Length: 1354, dtype: float64"
            ],
            "text/html": [
              "<div>\n",
              "<style scoped>\n",
              "    .dataframe tbody tr th:only-of-type {\n",
              "        vertical-align: middle;\n",
              "    }\n",
              "\n",
              "    .dataframe tbody tr th {\n",
              "        vertical-align: top;\n",
              "    }\n",
              "\n",
              "    .dataframe thead th {\n",
              "        text-align: right;\n",
              "    }\n",
              "</style>\n",
              "<table border=\"1\" class=\"dataframe\">\n",
              "  <thead>\n",
              "    <tr style=\"text-align: right;\">\n",
              "      <th></th>\n",
              "      <th>0</th>\n",
              "    </tr>\n",
              "  </thead>\n",
              "  <tbody>\n",
              "    <tr>\n",
              "      <th>2020-01-03</th>\n",
              "      <td>0.990112</td>\n",
              "    </tr>\n",
              "    <tr>\n",
              "      <th>2020-01-06</th>\n",
              "      <td>1.002869</td>\n",
              "    </tr>\n",
              "    <tr>\n",
              "      <th>2020-01-07</th>\n",
              "      <td>0.999406</td>\n",
              "    </tr>\n",
              "    <tr>\n",
              "      <th>2020-01-08</th>\n",
              "      <td>1.007203</td>\n",
              "    </tr>\n",
              "    <tr>\n",
              "      <th>2020-01-09</th>\n",
              "      <td>1.019421</td>\n",
              "    </tr>\n",
              "    <tr>\n",
              "      <th>...</th>\n",
              "      <td>...</td>\n",
              "    </tr>\n",
              "    <tr>\n",
              "      <th>2025-05-16</th>\n",
              "      <td>2.074619</td>\n",
              "    </tr>\n",
              "    <tr>\n",
              "      <th>2025-05-19</th>\n",
              "      <td>2.076247</td>\n",
              "    </tr>\n",
              "    <tr>\n",
              "      <th>2025-05-20</th>\n",
              "      <td>2.057330</td>\n",
              "    </tr>\n",
              "    <tr>\n",
              "      <th>2025-05-21</th>\n",
              "      <td>2.045685</td>\n",
              "    </tr>\n",
              "    <tr>\n",
              "      <th>2025-05-22</th>\n",
              "      <td>2.058387</td>\n",
              "    </tr>\n",
              "  </tbody>\n",
              "</table>\n",
              "<p>1354 rows × 1 columns</p>\n",
              "</div><br><label><b>dtype:</b> float64</label>"
            ]
          },
          "metadata": {},
          "execution_count": 27
        }
      ]
    },
    {
      "cell_type": "markdown",
      "source": [
        "- **Rolling Max:** Tracks the highest portfolio value reached up to each point in time.  \n",
        "- **Drawdown:** Represents the percentage decline from the peak value.  \n",
        "- **Max Drawdown (MDD):** The largest drop from a peak observed during the period.  \n",
        "- **End Date:** The date when the maximum drawdown occurred.  \n"
      ],
      "metadata": {
        "id": "GcdVdoYz-aLe"
      }
    },
    {
      "cell_type": "code",
      "source": [
        "rolling_max=cum_port.cummax()\n",
        "rolling_max"
      ],
      "metadata": {
        "colab": {
          "base_uri": "https://localhost:8080/",
          "height": 458
        },
        "id": "ilUeOsmKdU3u",
        "outputId": "8573b787-e8e5-4059-9ea6-2b90fed16991"
      },
      "execution_count": null,
      "outputs": [
        {
          "output_type": "execute_result",
          "data": {
            "text/plain": [
              "2020-01-03    0.990112\n",
              "2020-01-06    1.002869\n",
              "2020-01-07    1.002869\n",
              "2020-01-08    1.007203\n",
              "2020-01-09    1.019421\n",
              "                ...   \n",
              "2025-05-16    2.380495\n",
              "2025-05-19    2.380495\n",
              "2025-05-20    2.380495\n",
              "2025-05-21    2.380495\n",
              "2025-05-22    2.380495\n",
              "Length: 1354, dtype: float64"
            ],
            "text/html": [
              "<div>\n",
              "<style scoped>\n",
              "    .dataframe tbody tr th:only-of-type {\n",
              "        vertical-align: middle;\n",
              "    }\n",
              "\n",
              "    .dataframe tbody tr th {\n",
              "        vertical-align: top;\n",
              "    }\n",
              "\n",
              "    .dataframe thead th {\n",
              "        text-align: right;\n",
              "    }\n",
              "</style>\n",
              "<table border=\"1\" class=\"dataframe\">\n",
              "  <thead>\n",
              "    <tr style=\"text-align: right;\">\n",
              "      <th></th>\n",
              "      <th>0</th>\n",
              "    </tr>\n",
              "  </thead>\n",
              "  <tbody>\n",
              "    <tr>\n",
              "      <th>2020-01-03</th>\n",
              "      <td>0.990112</td>\n",
              "    </tr>\n",
              "    <tr>\n",
              "      <th>2020-01-06</th>\n",
              "      <td>1.002869</td>\n",
              "    </tr>\n",
              "    <tr>\n",
              "      <th>2020-01-07</th>\n",
              "      <td>1.002869</td>\n",
              "    </tr>\n",
              "    <tr>\n",
              "      <th>2020-01-08</th>\n",
              "      <td>1.007203</td>\n",
              "    </tr>\n",
              "    <tr>\n",
              "      <th>2020-01-09</th>\n",
              "      <td>1.019421</td>\n",
              "    </tr>\n",
              "    <tr>\n",
              "      <th>...</th>\n",
              "      <td>...</td>\n",
              "    </tr>\n",
              "    <tr>\n",
              "      <th>2025-05-16</th>\n",
              "      <td>2.380495</td>\n",
              "    </tr>\n",
              "    <tr>\n",
              "      <th>2025-05-19</th>\n",
              "      <td>2.380495</td>\n",
              "    </tr>\n",
              "    <tr>\n",
              "      <th>2025-05-20</th>\n",
              "      <td>2.380495</td>\n",
              "    </tr>\n",
              "    <tr>\n",
              "      <th>2025-05-21</th>\n",
              "      <td>2.380495</td>\n",
              "    </tr>\n",
              "    <tr>\n",
              "      <th>2025-05-22</th>\n",
              "      <td>2.380495</td>\n",
              "    </tr>\n",
              "  </tbody>\n",
              "</table>\n",
              "<p>1354 rows × 1 columns</p>\n",
              "</div><br><label><b>dtype:</b> float64</label>"
            ]
          },
          "metadata": {},
          "execution_count": 28
        }
      ]
    },
    {
      "cell_type": "code",
      "source": [
        "drawdown=(cum_port-rolling_max)/rolling_max\n",
        "drawdown"
      ],
      "metadata": {
        "colab": {
          "base_uri": "https://localhost:8080/",
          "height": 458
        },
        "id": "_vyH2WOqd6ma",
        "outputId": "0099bc67-2b3c-4573-cb72-0f87473db6bb"
      },
      "execution_count": null,
      "outputs": [
        {
          "output_type": "execute_result",
          "data": {
            "text/plain": [
              "2020-01-03    0.000000\n",
              "2020-01-06    0.000000\n",
              "2020-01-07   -0.003453\n",
              "2020-01-08    0.000000\n",
              "2020-01-09    0.000000\n",
              "                ...   \n",
              "2025-05-16   -0.128492\n",
              "2025-05-19   -0.127809\n",
              "2025-05-20   -0.135755\n",
              "2025-05-21   -0.140647\n",
              "2025-05-22   -0.135312\n",
              "Length: 1354, dtype: float64"
            ],
            "text/html": [
              "<div>\n",
              "<style scoped>\n",
              "    .dataframe tbody tr th:only-of-type {\n",
              "        vertical-align: middle;\n",
              "    }\n",
              "\n",
              "    .dataframe tbody tr th {\n",
              "        vertical-align: top;\n",
              "    }\n",
              "\n",
              "    .dataframe thead th {\n",
              "        text-align: right;\n",
              "    }\n",
              "</style>\n",
              "<table border=\"1\" class=\"dataframe\">\n",
              "  <thead>\n",
              "    <tr style=\"text-align: right;\">\n",
              "      <th></th>\n",
              "      <th>0</th>\n",
              "    </tr>\n",
              "  </thead>\n",
              "  <tbody>\n",
              "    <tr>\n",
              "      <th>2020-01-03</th>\n",
              "      <td>0.000000</td>\n",
              "    </tr>\n",
              "    <tr>\n",
              "      <th>2020-01-06</th>\n",
              "      <td>0.000000</td>\n",
              "    </tr>\n",
              "    <tr>\n",
              "      <th>2020-01-07</th>\n",
              "      <td>-0.003453</td>\n",
              "    </tr>\n",
              "    <tr>\n",
              "      <th>2020-01-08</th>\n",
              "      <td>0.000000</td>\n",
              "    </tr>\n",
              "    <tr>\n",
              "      <th>2020-01-09</th>\n",
              "      <td>0.000000</td>\n",
              "    </tr>\n",
              "    <tr>\n",
              "      <th>...</th>\n",
              "      <td>...</td>\n",
              "    </tr>\n",
              "    <tr>\n",
              "      <th>2025-05-16</th>\n",
              "      <td>-0.128492</td>\n",
              "    </tr>\n",
              "    <tr>\n",
              "      <th>2025-05-19</th>\n",
              "      <td>-0.127809</td>\n",
              "    </tr>\n",
              "    <tr>\n",
              "      <th>2025-05-20</th>\n",
              "      <td>-0.135755</td>\n",
              "    </tr>\n",
              "    <tr>\n",
              "      <th>2025-05-21</th>\n",
              "      <td>-0.140647</td>\n",
              "    </tr>\n",
              "    <tr>\n",
              "      <th>2025-05-22</th>\n",
              "      <td>-0.135312</td>\n",
              "    </tr>\n",
              "  </tbody>\n",
              "</table>\n",
              "<p>1354 rows × 1 columns</p>\n",
              "</div><br><label><b>dtype:</b> float64</label>"
            ]
          },
          "metadata": {},
          "execution_count": 29
        }
      ]
    },
    {
      "cell_type": "code",
      "source": [
        "max_dd = drawdown.min()\n",
        "end_date = drawdown.idxmin()\n",
        "start_date = cum_port[:end_date].idxmax()"
      ],
      "metadata": {
        "id": "uUuRy8dGeRUZ"
      },
      "execution_count": null,
      "outputs": []
    },
    {
      "cell_type": "code",
      "source": [
        "plt.figure(figsize=(10,4))\n",
        "plt.plot(cum_port, label='Cumulative')\n",
        "plt.fill_between(drawdown.index, cum_port, rolling_max,\n",
        "                 where=drawdown<0, color='red', alpha=0.3)\n",
        "plt.title('Portfolio Cumulative Return & Drawdown')\n",
        "plt.legend()\n",
        "plt.show()"
      ],
      "metadata": {
        "colab": {
          "base_uri": "https://localhost:8080/",
          "height": 391
        },
        "id": "Qc9r9ioWeYyN",
        "outputId": "f6fe2252-f4f3-4da1-f7ae-6421c48a9b2e"
      },
      "execution_count": null,
      "outputs": [
        {
          "output_type": "display_data",
          "data": {
            "text/plain": [
              "<Figure size 1000x400 with 1 Axes>"
            ],
            "image/png": "[encoded data removed]"
          },
          "metadata": {}
        }
      ]
    },
    {
      "cell_type": "markdown",
      "source": [
        "Line chart displays the cumulative portfolio value over time.\n",
        "\n",
        "Red shaded regions highlight periods of portfolio drawdowns.\n"
      ],
      "metadata": {
        "id": "TgtxI1SR-Bd9"
      }
    },
    {
      "cell_type": "markdown",
      "source": [
        "## Expected Shortfall (ES)\n",
        "\n",
        "Expected Shortfall (ES), or Conditional VaR, measures the **average loss in the worst-case scenarios**, beyond the Value at Risk (VaR) threshold.\n",
        "\n",
        "- It gives the **mean loss** when losses exceed the VaR level.\n",
        "- More informative than VaR for understanding **tail risk**."
      ],
      "metadata": {
        "id": "i3NsWwFfskBl"
      }
    },
    {
      "cell_type": "code",
      "source": [
        "alpha=0.5 ## ES at beyond 95%\n",
        "#hisorical\n",
        "ES_historical=-portR[portR<=np.percentile(portR,5)].mean()\n",
        "\n",
        "##normal method\n",
        "ES_norm=(mu_p+sigma_p*stats.norm.pdf(z05)/alpha)\n",
        "\n",
        "\n",
        "print(f\"Historical ES (95%): {ES_historical:.5f}\")\n",
        "print(f\"Parametric Normal ES (95%): {ES_norm:.5f}\")"
      ],
      "metadata": {
        "id": "4JXjasE1et41",
        "colab": {
          "base_uri": "https://localhost:8080/"
        },
        "outputId": "62ba294d-5dda-445f-81ac-82bc97ad82c2"
      },
      "execution_count": null,
      "outputs": [
        {
          "output_type": "stream",
          "name": "stdout",
          "text": [
            "Historical ES (95%): 0.04230\n",
            "Parametric Normal ES (95%): 0.00445\n"
          ]
        }
      ]
    },
    {
      "cell_type": "markdown",
      "source": [
        "## VaR Backtesting"
      ],
      "metadata": {
        "id": "VTqMJJ4AQaa2"
      }
    },
    {
      "cell_type": "code",
      "source": [
        "var_series=-(portR.rolling(1).mean()+portR.rolling(1).std()*z05)\n",
        "#Normal distribution vaR\n",
        "exc=portR<-vaR_norm\n",
        "num_exc=exc.sum()\n",
        "total=len(portR)\n",
        "print(num_exc/total)"
      ],
      "metadata": {
        "colab": {
          "base_uri": "https://localhost:8080/"
        },
        "id": "m9cSg9rlJ1lN",
        "outputId": "f2efb569-ffc8-4e63-edc8-e2da1691e7c7"
      },
      "execution_count": null,
      "outputs": [
        {
          "output_type": "stream",
          "name": "stdout",
          "text": [
            "0.04948301329394387\n"
          ]
        }
      ]
    },
    {
      "cell_type": "code",
      "source": [
        "portR.rolling(1).mean()"
      ],
      "metadata": {
        "colab": {
          "base_uri": "https://localhost:8080/",
          "height": 458
        },
        "id": "47vU9OEKQcs0",
        "outputId": "eb27d21e-0591-450a-e3a3-3d9a3a8f74bf"
      },
      "execution_count": null,
      "outputs": [
        {
          "output_type": "execute_result",
          "data": {
            "text/plain": [
              "2020-01-03   -0.009888\n",
              "2020-01-06    0.012885\n",
              "2020-01-07   -0.003453\n",
              "2020-01-08    0.007801\n",
              "2020-01-09    0.012131\n",
              "                ...   \n",
              "2025-05-16    0.004292\n",
              "2025-05-19    0.000785\n",
              "2025-05-20   -0.009112\n",
              "2025-05-21   -0.005660\n",
              "2025-05-22    0.006209\n",
              "Length: 1354, dtype: float64"
            ],
            "text/html": [
              "<div>\n",
              "<style scoped>\n",
              "    .dataframe tbody tr th:only-of-type {\n",
              "        vertical-align: middle;\n",
              "    }\n",
              "\n",
              "    .dataframe tbody tr th {\n",
              "        vertical-align: top;\n",
              "    }\n",
              "\n",
              "    .dataframe thead th {\n",
              "        text-align: right;\n",
              "    }\n",
              "</style>\n",
              "<table border=\"1\" class=\"dataframe\">\n",
              "  <thead>\n",
              "    <tr style=\"text-align: right;\">\n",
              "      <th></th>\n",
              "      <th>0</th>\n",
              "    </tr>\n",
              "  </thead>\n",
              "  <tbody>\n",
              "    <tr>\n",
              "      <th>2020-01-03</th>\n",
              "      <td>-0.009888</td>\n",
              "    </tr>\n",
              "    <tr>\n",
              "      <th>2020-01-06</th>\n",
              "      <td>0.012885</td>\n",
              "    </tr>\n",
              "    <tr>\n",
              "      <th>2020-01-07</th>\n",
              "      <td>-0.003453</td>\n",
              "    </tr>\n",
              "    <tr>\n",
              "      <th>2020-01-08</th>\n",
              "      <td>0.007801</td>\n",
              "    </tr>\n",
              "    <tr>\n",
              "      <th>2020-01-09</th>\n",
              "      <td>0.012131</td>\n",
              "    </tr>\n",
              "    <tr>\n",
              "      <th>...</th>\n",
              "      <td>...</td>\n",
              "    </tr>\n",
              "    <tr>\n",
              "      <th>2025-05-16</th>\n",
              "      <td>0.004292</td>\n",
              "    </tr>\n",
              "    <tr>\n",
              "      <th>2025-05-19</th>\n",
              "      <td>0.000785</td>\n",
              "    </tr>\n",
              "    <tr>\n",
              "      <th>2025-05-20</th>\n",
              "      <td>-0.009112</td>\n",
              "    </tr>\n",
              "    <tr>\n",
              "      <th>2025-05-21</th>\n",
              "      <td>-0.005660</td>\n",
              "    </tr>\n",
              "    <tr>\n",
              "      <th>2025-05-22</th>\n",
              "      <td>0.006209</td>\n",
              "    </tr>\n",
              "  </tbody>\n",
              "</table>\n",
              "<p>1354 rows × 1 columns</p>\n",
              "</div><br><label><b>dtype:</b> float64</label>"
            ]
          },
          "metadata": {},
          "execution_count": 55
        }
      ]
    },
    {
      "cell_type": "markdown",
      "source": [
        "## Rolling Historical VaR Plot\n",
        "Applies a 60-day rolling window to compute dynamic historical VaR.\n",
        "\n",
        "Compares the rolling 5th percentile of returns with the fixed parametric VaR.\n"
      ],
      "metadata": {
        "id": "5UkwwUcS9XlR"
      }
    },
    {
      "cell_type": "code",
      "source": [
        "# Rolling 60-day VaR\n",
        "window = 60\n",
        "roll_var = portR.rolling(window).quantile(0.05).dropna()\n",
        "plt.figure(figsize=(10,4))\n",
        "plt.plot(-roll_var, label='Rolling 95% VaR (hist)')\n",
        "plt.axhline(vaR_norm, color='red', linestyle='--', label='Static VaR')\n",
        "plt.title('Rolling 60-Day Historical VaR (95%)')\n",
        "plt.ylabel('VaR')\n",
        "plt.legend()\n",
        "plt.show()"
      ],
      "metadata": {
        "colab": {
          "base_uri": "https://localhost:8080/",
          "height": 391
        },
        "id": "_GH958YgRUWo",
        "outputId": "8508ebca-4e99-4dd2-c4e1-46a49e3deaea"
      },
      "execution_count": null,
      "outputs": [
        {
          "output_type": "display_data",
          "data": {
            "text/plain": [
              "<Figure size 1000x400 with 1 Axes>"
            ],
            "image/png": "[encoded data removed]"
          },
          "metadata": {}
        }
      ]
    },
    {
      "cell_type": "markdown",
      "source": [
        "## Normality Test of Portfolio Returns (Jarque-Bera Test)\n",
        "\n",
        "The **Jarque-Bera Test** assesses whether the returns follow a normal distribution.\n",
        "\n",
        "- **Null Hypothesis (H₀):** Returns are normally distributed.\n",
        "- **Interpretation:**  \n",
        "  - If **p-value < 0.05**, reject H₀ → returns are **not normally distributed**, which may be problematic for models like **parametric Value at Risk (VaR)**.\n"
      ],
      "metadata": {
        "id": "sBZWQV04VkvD"
      }
    },
    {
      "cell_type": "code",
      "source": [
        "jb_stat, jb_p = stats.jarque_bera(portR)\n",
        "print(f\"JB statistic = {jb_stat:.2f}, p-value = {jb_p}\")\n",
        "if jb_p < 0.05:\n",
        "    print(\"Reject normality at 5% level.\")\n",
        "else:\n",
        "    print(\"Cannot reject normality.\")"
      ],
      "metadata": {
        "colab": {
          "base_uri": "https://localhost:8080/"
        },
        "id": "YYiBSfskVdyU",
        "outputId": "14b59cee-8289-423e-8f8b-6d51770a52d1"
      },
      "execution_count": null,
      "outputs": [
        {
          "output_type": "stream",
          "name": "stdout",
          "text": [
            "JB statistic = 1191.65, p-value = 1.7215493309912836e-259\n",
            "Reject normality at 5% level.\n"
          ]
        }
      ]
    },
    {
      "cell_type": "markdown",
      "source": [
        "## Conclusion\n",
        "- Jarque-Bera test shows stock and portfolio returns are non-normal with fat tails (more frequent extreme moves).\n",
        "- Average daily returns are small; typical daily volatility is around 2%.\n",
        "- Diversification reduces portfolio risk compared to individual stocks.\n",
        "- Normality-based risk models (e.g., Normal VaR) may underestimate large losses.\n",
        "- Risk measures that account for fat tails (historical VaR, Student’s t VaR, Expected Shortfall) are more appropriate for this portfolio.\n",
        "\n",
        "\n"
      ],
      "metadata": {
        "id": "S96svTs2oS7S"
      }
    }
  ]
}