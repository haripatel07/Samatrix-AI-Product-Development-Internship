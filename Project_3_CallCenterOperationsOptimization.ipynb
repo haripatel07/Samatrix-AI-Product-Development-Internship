{
  "nbformat": 4,
  "nbformat_minor": 0,
  "metadata": {
    "colab": {
      "provenance": []
    },
    "kernelspec": {
      "name": "python3",
      "display_name": "Python 3"
    },
    "language_info": {
      "name": "python"
    }
  },
  "cells": [
    {
      "cell_type": "markdown",
      "source": [
        "# Project : Call Center Operations Optimization"
      ],
      "metadata": {
        "id": "3DhSm5gQjnU4"
      }
    },
    {
      "cell_type": "markdown",
      "source": [
        "## Theoretical Description\n",
        "\n",
        "\n",
        "This project aims to simulate and optimize call center operations using principles of queuing theory. It models the behavior of incoming customer calls and agent handling, computes critical performance indicators such as average wait time and system load, and analyzes how varying the number of agents influences overall operational efficiency.\n",
        "\n",
        "\n",
        "## Problem Context\n",
        "\n",
        "- Incoming calls are assumed to follow a **Poisson arrival process**, representing random call timings.\n",
        "- The duration of each call is **exponentially distributed**, reflecting variable service times.\n",
        "- A queuing simulation is employed to realistically replicate agent availability and response behavior in the system.\n"
      ],
      "metadata": {
        "id": "W_Q_VM-8j11u"
      }
    },
    {
      "cell_type": "code",
      "source": [
        "# Importing Libraries\n",
        "import numpy as np\n",
        "import matplotlib.pyplot as plt\n",
        "import pandas as pd"
      ],
      "metadata": {
        "id": "Z_GLreYXkTls"
      },
      "execution_count": 39,
      "outputs": []
    },
    {
      "cell_type": "code",
      "source": [
        "# Parameters\n",
        "lamb = 20  # Average arrival rate (calls per hour)\n",
        "mu = 5     # Average service rate per agent (calls per agent per hour)\n",
        "shift_hours = 8  # Duration of the shift in hours\n",
        "\n",
        "# Set random seed for reproducibility\n",
        "np.random.seed(1)\n",
        "\n",
        "# Simulate inter-arrival times (exponentially distributed)\n",
        "inter_arrival_times = np.random.exponential(1 / lamb, int(lamb * shift_hours * 1.5))\n",
        "arrival_times = np.cumsum(inter_arrival_times)\n",
        "arrival_times = arrival_times[arrival_times < shift_hours]  # Keep calls within 8-hour shift\n",
        "N = len(arrival_times)  # Total number of calls\n",
        "\n",
        "# Simulate service times (exponentially distributed)\n",
        "service_times = np.random.exponential(1 / mu, N)"
      ],
      "metadata": {
        "id": "zNMba4Lp1KRk"
      },
      "execution_count": 40,
      "outputs": []
    },
    {
      "cell_type": "code",
      "source": [
        "# Queue simulation function\n",
        "def simulate_queue(num_agents):\n",
        "    next_available = np.zeros(num_agents)  # Tracks when each agent becomes available\n",
        "    wait_times = np.zeros(N)               # Wait time for each call\n",
        "    system_sizes = np.zeros(N)             # Number of customers in the system at each arrival\n",
        "    departure_times = []                   # Service completion times\n",
        "\n",
        "    for i, arrival in enumerate(arrival_times):\n",
        "        agent_index = np.argmin(next_available)  # Find the next available agent\n",
        "        start_time = max(arrival, next_available[agent_index])  # Call starts either at arrival or when agent is free\n",
        "        wait_times[i] = start_time - arrival\n",
        "        end_time = start_time + service_times[i]\n",
        "        next_available[agent_index] = end_time  # Update agent's availability\n",
        "        departure_times.append(end_time)\n",
        "        system_sizes[i] = np.sum(np.array(departure_times) > arrival)  # Number still in the system\n",
        "\n",
        "    return wait_times, system_sizes"
      ],
      "metadata": {
        "id": "grGSh_5-kfAJ"
      },
      "execution_count": 41,
      "outputs": []
    },
    {
      "cell_type": "code",
      "source": [
        "# Run simulation for 5 agents\n",
        "wait_times, system_sizes = simulate_queue(5)\n",
        "\n",
        "# Output results\n",
        "print(\"Total calls handled:\", N)\n",
        "print(\"Average wait time: {:.2f} minutes\".format(np.mean(wait_times) * 60))  # converted to minutes\n",
        "print(\"Average system size: {:.2f}\".format(np.mean(system_sizes)))"
      ],
      "metadata": {
        "id": "YXlQpbZrkg6c",
        "colab": {
          "base_uri": "https://localhost:8080/"
        },
        "outputId": "8945b939-a2bd-40b4-e73e-e5d7d0c7dc84"
      },
      "execution_count": 42,
      "outputs": [
        {
          "output_type": "stream",
          "name": "stdout",
          "text": [
            "Total calls handled: 163\n",
            "Average wait time: 5.05 minutes\n",
            "Average system size: 6.82\n"
          ]
        }
      ]
    },
    {
      "cell_type": "markdown",
      "source": [
        "## Compare to M/M/1 Analytic Formula\n",
        "\n",
        "The **M/M/1 queue model** is used to calculate the expected performance of a call center system with a **single agent**.\n",
        "\n",
        "- The first **\"M\"** indicates that calls arrive randomly, following a **Poisson process**.\n",
        "- The second **\"M\"** means service times are also random, following an **exponential distribution**.\n",
        "- The **\"1\"** signifies there is **one agent** serving calls.\n",
        "\n",
        "The model computes the following key metrics:\n",
        "\n",
        "1. **Utilization factor** (fraction of time the agent is busy):  \n",
        "   \\[\n",
        "   \\rho = \\frac{\\lambda}{\\mu}\n",
        "   \\]\n",
        "\n",
        "2. **Average number of customers in the system**:  \n",
        "   \\[\n",
        "   L = \\frac{\\rho}{1 - \\rho}\n",
        "   \\]\n",
        "\n",
        "3. **Average time a customer spends in the system** (waiting plus service time):  \n",
        "   \\[\n",
        "   W = \\frac{L}{\\lambda}\n",
        "   \\]\n",
        "\n",
        "These analytic results provide a theoretical baseline to compare against the simulated call center performance when there is only one agent.\n"
      ],
      "metadata": {
        "id": "K9RTWyIr0pm8"
      }
    },
    {
      "cell_type": "code",
      "source": [
        "p1=lamb/mu\n",
        "# Define rho as the utilization factor\n",
        "rho = lamb / mu\n",
        "l_analytic=rho/(1-rho)\n",
        "w_analytic=l_analytic/lamb\n",
        "print(\"Average wait time:\", w_analytic)\n",
        "print(\"Average system size:\", l_analytic)"
      ],
      "metadata": {
        "colab": {
          "base_uri": "https://localhost:8080/"
        },
        "id": "yfhw2yNgzkb5",
        "outputId": "14af284c-c69b-49c6-d603-bf1cc87539a7"
      },
      "execution_count": 43,
      "outputs": [
        {
          "output_type": "stream",
          "name": "stdout",
          "text": [
            "Average wait time: -0.06666666666666667\n",
            "Average system size: -1.3333333333333333\n"
          ]
        }
      ]
    },
    {
      "cell_type": "markdown",
      "source": [
        "## Test Staffing Levels\n",
        "\n",
        "This section evaluates different numbers of agents to find the minimum needed to keep **95% of customer wait times under 5 minutes**.\n",
        "\n",
        "The simulation runs with agent counts from 1 to 5, calculating average wait time, 95th percentile wait time, and average system size for each. Results are compared in a table.\n",
        "\n",
        "The code identifies the smallest staffing level that meets the target wait time; if none qualify, it reports that even 5 agents are insufficient.\n"
      ],
      "metadata": {
        "id": "QwiXsDr546PO"
      }
    },
    {
      "cell_type": "code",
      "source": [
        "threshold=5\n",
        "results=[]\n",
        "for s in range(1,6):\n",
        "  w,q=simulate_queue(s)\n",
        "  waits_min=w*60\n",
        "  p95_wait=np.percentile(waits_min,95)\n",
        "  results.append((s,waits_min.mean(),p95_wait,q.mean()))\n",
        "df=pd.DataFrame(results,columns=['Agents','Avg wait(min)','95th pct wait(min)','Avg system size'])\n",
        "print(df)\n",
        "good=df[df['95th pct wait(min)']<=threshold]\n",
        "if not good.empty:\n",
        "  best_s=int(good.iloc[0]['Agents'])\n",
        "  print(f\"Schedule at least {best_s} agents to keep 95% of waits<={threshold}min.\")\n",
        "else:\n",
        "  print(\"Even 5 agents can't meet the 5 min \")"
      ],
      "metadata": {
        "id": "xvOzgB0Z3fMP",
        "colab": {
          "base_uri": "https://localhost:8080/"
        },
        "outputId": "3e6c160b-cbb6-41f7-9b9b-8b60f22177eb"
      },
      "execution_count": 44,
      "outputs": [
        {
          "output_type": "stream",
          "name": "stdout",
          "text": [
            "   Agents  Avg wait(min)  95th pct wait(min)  Avg system size\n",
            "0       1     808.232100         1488.275544        65.993865\n",
            "1       2     284.004529          520.338714        49.042945\n",
            "2       3     109.126322          191.268183        29.423313\n",
            "3       4      23.259675           39.865347        11.846626\n",
            "4       5       5.053611           15.062201         6.815951\n",
            "Even 5 agents can't meet the 5 min \n"
          ]
        }
      ]
    },
    {
      "cell_type": "markdown",
      "source": [
        "## Visualize Wait-Time Distributions\n",
        "\n",
        "This section visualizes **how customer wait times are distributed** across different staffing levels (from **1 to 5 agents**).\n",
        "\n",
        "### Process:\n",
        "- The `simulate_queue()` function is run for each agent count.\n",
        "- Wait times are collected and **converted from hours to minutes**.\n",
        "- A **histogram** is plotted for each staffing level on the same graph:\n",
        "  - Each color represents a different number of agents.\n",
        "  - The height of each bar indicates how many customers experienced that range of wait times.\n",
        "\n",
        "### Key Features:\n",
        "- A **vertical dashed line** at **5 minutes** represents the performance threshold.\n",
        "- The **x-axis** shows **wait time in minutes**.\n",
        "- The **y-axis** shows the **number of customers** corresponding to each wait time interval.\n",
        "\n",
        "### Purpose:\n",
        "This visualization helps illustrate how increasing the number of agents:\n",
        "- **Reduces the number of long waits**\n",
        "- **Improves overall wait time distribution**\n",
        "- Aids in deciding the **optimal staffing level** for acceptable service.\n"
      ],
      "metadata": {
        "id": "DsFCy6W314P3"
      }
    },
    {
      "cell_type": "code",
      "source": [
        "plt.figure(figsize=(8, 4))\n",
        "for s in[1,2,3,4,5]:\n",
        "  w,_=simulate_queue(s)\n",
        "  plt.hist(w*60,bins=60,alpha=0.5,label=f'{s} agents')\n",
        "plt.axvline(threshold,color='k',linestyle='--',label='5 min target')\n",
        "plt.xlabel('Wait Time (min)')\n",
        "plt.ylabel('Frequency')\n",
        "plt.legend()\n",
        "plt.show()"
      ],
      "metadata": {
        "id": "KuCweoCu7e1U",
        "colab": {
          "base_uri": "https://localhost:8080/",
          "height": 388
        },
        "outputId": "5c30bb57-adfc-49e9-be98-85ae0a02f682"
      },
      "execution_count": 45,
      "outputs": [
        {
          "output_type": "display_data",
          "data": {
            "text/plain": [
              "<Figure size 800x400 with 1 Axes>"
            ],
            "image/png": "[encoded data removed]"
          },
          "metadata": {}
        }
      ]
    },
    {
      "cell_type": "markdown",
      "source": [
        "## Time-Varying Arrival Rates\n",
        "\n",
        "This section models **time-varying arrival rates**, where the number of incoming calls **fluctuates throughout an 8-hour shift**—reflecting real-world patterns with both busy and slow periods.\n",
        "\n",
        "### Defined Time Periods:\n",
        "1. **Morning Rush (0–3 hours):**  \n",
        "   - Arrival rate: **30 calls/hour**\n",
        "2. **Midday Lull (3–5 hours):**  \n",
        "   - Arrival rate: **20 calls/hour**\n",
        "3. **Afternoon Spike (5–8 hours):**  \n",
        "   - Arrival rate: **40 calls/hour**\n",
        "\n",
        "### Process:\n",
        "- For each time block, random **inter-arrival times** are generated based on the respective Poisson rate.\n",
        "- The generated call times are **cumulative sums** of inter-arrival times, adjusted to start at the correct hour.\n",
        "- All arrival times are combined and sorted into a unified list.\n",
        "- The system uses **5 agents** to process these calls.\n",
        "\n",
        "### Output:\n",
        "- The simulation calculates **wait times for each customer**.\n",
        "- Finally, it prints the **average wait time in minutes**.\n",
        "\n",
        "### Purpose:\n",
        "This approach makes the simulation **more realistic** by incorporating **non-uniform call traffic**, allowing for more accurate performance testing of the call center under dynamic conditions.\n",
        "\n"
      ],
      "metadata": {
        "id": "8KbtRkNIva97"
      }
    },
    {
      "cell_type": "code",
      "source": [
        "#Time-Varying Arrival Rates(Peak vs off-Peak)\n",
        "#Model lambda changing over the 8 hour shift for example,a morning \"rush\" ,a midday lull,and an afternoon spike.\n",
        "# Real call ceneters see non-stationary traffic\n",
        "\n",
        "def simulate_queue_timevarying(s):\n",
        "  periods=[(0,2,30),(2,6,20),(6,8,40)]\n",
        "  arrival=[]\n",
        "  for start,end,lam in periods:\n",
        "    duration=end-start\n",
        "    inter=np.random.exponential(1/lam,int(lam*duration*1.5))\n",
        "    ts=np.cumsum(inter)+start\n",
        "    arrival.extend(ts[ts<end])\n",
        "\n",
        "  arrivals = np.array(arrival)\n",
        "\n",
        "  arrivals.sort()\n",
        "  N=len(arrivals)\n",
        "  service=np.random.exponential(1/mu,N)\n",
        "  next_free=np.zeros(s)\n",
        "  wait_times=np.zeros(N)\n",
        "  for i,t in enumerate(arrivals):\n",
        "    j=np.argmin(next_free)\n",
        "    start=max(t,next_free[j])\n",
        "    wait_times[i]=start-t\n",
        "    next_free[j]=start+service[i]\n",
        "  return wait_times\n",
        "w_tv=simulate_queue_timevarying(5)\n",
        "print(\"Average wait time(min):\",w_tv.mean()*60)\n"
      ],
      "metadata": {
        "colab": {
          "base_uri": "https://localhost:8080/"
        },
        "id": "ytVNlrRi--Yc",
        "outputId": "a5dadbdd-f6b3-473c-fa67-92ecea54bdcf"
      },
      "execution_count": 46,
      "outputs": [
        {
          "output_type": "stream",
          "name": "stdout",
          "text": [
            "Average wait time(min): 28.94050166996809\n"
          ]
        }
      ]
    },
    {
      "cell_type": "markdown",
      "source": [
        "## Customer Abandonment (Patience Threshold)\n",
        "\n",
        "This simulation models a scenario where **customers hang up** if they wait **longer than 5 minutes**.\n",
        "\n",
        "- **Arrival and service times** are randomly generated.\n",
        "- Calls are handled by **5 agents**.\n",
        "- If a customer's **wait time > 5 minutes**, they **abandon** the call.\n",
        "- Otherwise, they are **served**, and their wait is recorded.\n",
        "\n",
        "**Outputs:**\n",
        "- **Average wait time** (for served customers)\n",
        "- **Abandonment rate** (percentage of customers who left)\n",
        "\n",
        "This reflects real-world impatience and helps assess call center performance."
      ],
      "metadata": {
        "id": "-TwLOzlfOIzz"
      }
    },
    {
      "cell_type": "code",
      "source": [
        "def simulate_with_abandon(s,patience=5/60):\n",
        "  arrivals=np.cumsum(np.random.exponential(1/lamb,int(lamb*shift_hours*1.5)))\n",
        "  arrivals=arrivals[arrivals<shift_hours]\n",
        "  service=np.random.exponential(1/mu,len(arrivals))\n",
        "  next_free=np.zeros(s)\n",
        "  abandons=0\n",
        "  waits=[]\n",
        "  for i,t in enumerate(arrivals):\n",
        "    j=np.argmin(next_free)\n",
        "    start=max(t,next_free[j])\n",
        "    wait=start-t\n",
        "    if wait>=patience:\n",
        "      abandons=abandons+1\n",
        "    else:\n",
        "      waits.append(wait)\n",
        "      next_free[j]=start+service[i]\n",
        "  return np.array(waits),abandons/len(arrivals)\n",
        "waits,abandonment=simulate_with_abandon(5)\n",
        "print(\"Average wait time(min):\",waits.mean()*60)\n",
        "print(\"Abandonment rate:\",abandonment)"
      ],
      "metadata": {
        "colab": {
          "base_uri": "https://localhost:8080/"
        },
        "id": "7KgPLs51EMEg",
        "outputId": "cf57acc4-e418-4947-a356-1e84a1ee636b"
      },
      "execution_count": 47,
      "outputs": [
        {
          "output_type": "stream",
          "name": "stdout",
          "text": [
            "Average wait time(min): 0.6160260819372596\n",
            "Abandonment rate: 0.08917197452229299\n"
          ]
        }
      ]
    },
    {
      "cell_type": "markdown",
      "source": [
        "## Agent Break Scheduling\n",
        "\n",
        "This simulation models a scenario where **one agent takes a scheduled break**, reducing available staff temporarily.\n",
        "\n",
        "- **Break Time**: Starts at **hour 3** and lasts for **15 minutes (0.25 hours)**.\n",
        "- **Setup**: 5 agents handle calls, but only **4 are available during the break**.\n",
        "- **Arrival and service times** are generated randomly.\n",
        "- During the break, the unavailable agent is **excluded from assignment**.\n",
        "\n",
        "**Output:**\n",
        "- **Average customer wait time** (in minutes), accounting for reduced staffing.\n",
        "\n",
        "**Goal:**  \n",
        "To measure the **impact of scheduled breaks** on customer wait times and service efficiency.\n"
      ],
      "metadata": {
        "id": "ECQJPaq1UQAD"
      }
    },
    {
      "cell_type": "code",
      "source": [
        "def simulate_with_breaks(s,break_start=3,break_length=0.25):\n",
        "  arrivals=np.cumsum(np.random.exponential(1/lamb,int(lamb*shift_hours*1.5)))\n",
        "  arrivals=arrivals[arrivals<shift_hours]\n",
        "  service=np.random.exponential(1/mu,len(arrivals))\n",
        "  next_free=np.zeros(s)\n",
        "  waits=[]\n",
        "  for i,t in enumerate(arrivals):\n",
        "    #if in break window, one fewer agent\n",
        "    avail=next_free.copy()\n",
        "    if break_start<t<break_start+break_length:\n",
        "      avail=np.delete(avail,0) #simulate 1 agent on break\n",
        "    j=np.argmin(avail)\n",
        "    start=max(t,avail[j])\n",
        "    waits.append(start-t)\n",
        "    #update that agents free time in original array\n",
        "    idx=j+(1 if break_start<t<break_start+break_length else 0)\n",
        "    next_free[j]=start+service[i]\n",
        "  return np.array(waits)\n",
        "w_b=simulate_with_breaks(5)\n",
        "print(\"Average wait time(min):\",w_b.mean()*60)"
      ],
      "metadata": {
        "colab": {
          "base_uri": "https://localhost:8080/"
        },
        "id": "gB-e4LAgQqus",
        "outputId": "63ea56ec-6cd6-4c1e-b844-3fab7c6e3a8c"
      },
      "execution_count": 48,
      "outputs": [
        {
          "output_type": "stream",
          "name": "stdout",
          "text": [
            "Average wait time(min): 8.21139203274959\n"
          ]
        }
      ]
    },
    {
      "cell_type": "markdown",
      "source": [
        "## Cost-Based Staffing Optimization\n",
        "\n",
        "This method determines the **optimal number of agents** to minimize the **total operational cost** in a call center.\n",
        "\n",
        "### Costs Considered:\n",
        "1. **Staffing cost:** \\$20 per hour per agent\n",
        "2. **Customer wait cost:** \\$0.50 per minute of customer waiting\n",
        "\n",
        "### Process:\n",
        "- For each staffing level (1 to 5 agents), simulate call handling including possible **customer abandonment**.\n",
        "- Calculate the **total customer wait time** (in minutes).\n",
        "- Compute the **combined cost** of staffing plus customer waiting.\n",
        "- Identify the staffing level with the **lowest total cost**.\n",
        "\n"
      ],
      "metadata": {
        "id": "kb_Jv9vkak06"
      }
    },
    {
      "cell_type": "code",
      "source": [
        "#How many agents should we hire?\n",
        "c_agent=20 # $20/hr per agent\n",
        "c_wait=0.50 # $0.50 per minute waited\n",
        "costs=[]\n",
        "for s in range(1,6):\n",
        "  w,_=simulate_with_abandon(s)\n",
        "  total_wait_cost=w.sum()*60*c_wait\n",
        "  staff_cost=s*c_agent*shift_hours\n",
        "  costs.append((s,staff_cost+total_wait_cost))\n",
        "opt=min(costs,key=lambda x:x[1])\n",
        "print(\"Agent coun,total cost:\")\n",
        "for s,c in costs:print(f\"s={s}:${c:,.0f}\")\n",
        "print(f\"optimal s by cost={opt[0]}\")"
      ],
      "metadata": {
        "id": "_SPXNJRba6PH",
        "colab": {
          "base_uri": "https://localhost:8080/"
        },
        "outputId": "0b882cf7-1ac0-4373-e841-954926f27a5f"
      },
      "execution_count": 49,
      "outputs": [
        {
          "output_type": "stream",
          "name": "stdout",
          "text": [
            "Agent coun,total cost:\n",
            "s=1:$197\n",
            "s=2:$406\n",
            "s=3:$576\n",
            "s=4:$691\n",
            "s=5:$838\n",
            "optimal s by cost=1\n"
          ]
        }
      ]
    },
    {
      "cell_type": "markdown",
      "source": [
        "## Multi-Day Variability and Sensitivity Analysis\n",
        "\n",
        "This analysis evaluates how the call center’s performance varies over **31 days**, using the previously determined optimal number of agents.\n",
        "\n",
        "### Process:\n",
        "- For each day, run the simulation and record:\n",
        "  - **Average customer wait time**\n",
        "  - **95th percentile wait time**\n",
        "- Save all daily results in a table.\n",
        "- Visualize the distribution of wait times across days with a histogram.\n",
        "- Provide a summary showing the **shortest**, **longest**, and **average** wait times.\n",
        "\n",
        "### Purpose:\n",
        "To understand the **stability and variability** of service quality over multiple days.\n",
        "\n"
      ],
      "metadata": {
        "id": "sErmEZZHIMSm"
      }
    },
    {
      "cell_type": "code",
      "source": [
        "days=31\n",
        "daily=[]\n",
        "for _ in range(days):\n",
        "  w,_=simulate_with_abandon(opt[0])\n",
        "  daily.append((w.mean()*60,np.percentile(w*60,95)))\n",
        "df=pd.DataFrame(daily,columns=['Avg wait(min)','95th pct wait(min)'])\n",
        "print(df)\n",
        "df.hist(bins=10)\n",
        "plt.suptitle('30-Day variability in wait Times')\n",
        "plt.show()"
      ],
      "metadata": {
        "colab": {
          "base_uri": "https://localhost:8080/",
          "height": 1000
        },
        "id": "hkTeJJRNEE7z",
        "outputId": "adf15290-0223-4a18-8227-64cd4242c9f4"
      },
      "execution_count": 50,
      "outputs": [
        {
          "output_type": "stream",
          "name": "stdout",
          "text": [
            "    Avg wait(min)  95th pct wait(min)\n",
            "0        1.900674            4.666930\n",
            "1        2.018578            4.702022\n",
            "2        1.894927            4.813067\n",
            "3        1.772763            4.712760\n",
            "4        2.565484            4.493289\n",
            "5        1.660560            4.642374\n",
            "6        2.477172            4.734984\n",
            "7        2.534343            4.621639\n",
            "8        2.117772            4.817771\n",
            "9        2.107133            4.940171\n",
            "10       2.348147            4.670139\n",
            "11       1.904122            4.843447\n",
            "12       2.573250            4.840325\n",
            "13       2.318277            4.730032\n",
            "14       2.474544            4.707353\n",
            "15       2.337149            4.670702\n",
            "16       1.957499            4.715729\n",
            "17       2.873523            4.706679\n",
            "18       2.452938            4.791494\n",
            "19       2.227883            4.708684\n",
            "20       2.268363            4.765408\n",
            "21       1.784975            3.924112\n",
            "22       2.075801            4.858744\n",
            "23       2.259764            4.742836\n",
            "24       2.813892            4.594187\n",
            "25       2.244121            4.717236\n",
            "26       2.753804            4.914027\n",
            "27       2.253814            4.824088\n",
            "28       2.352375            4.740586\n",
            "29       2.363198            4.870104\n",
            "30       2.551171            4.822903\n"
          ]
        },
        {
          "output_type": "display_data",
          "data": {
            "text/plain": [
              "<Figure size 640x480 with 2 Axes>"
            ],
            "image/png": "[encoded data removed]"
          },
          "metadata": {}
        }
      ]
    },
    {
      "cell_type": "code",
      "source": [
        "df.describe()"
      ],
      "metadata": {
        "colab": {
          "base_uri": "https://localhost:8080/",
          "height": 300
        },
        "id": "4PkUoNcpMNup",
        "outputId": "292a2967-340f-4702-8c30-cd9936f7f361"
      },
      "execution_count": 51,
      "outputs": [
        {
          "output_type": "execute_result",
          "data": {
            "text/plain": [
              "       Avg wait(min)  95th pct wait(min)\n",
              "count      31.000000           31.000000\n",
              "mean        2.265743            4.719478\n",
              "std         0.310073            0.176131\n",
              "min         1.660560            3.924112\n",
              "25%         2.047189            4.686362\n",
              "50%         2.268363            4.730032\n",
              "75%         2.475858            4.820337\n",
              "max         2.873523            4.940171"
            ],
            "text/html": [
              "\n",
              "  <div id=\"df-7993236d-afe9-49a4-b3ab-7e6d99217450\" class=\"colab-df-container\">\n",
              "    <div>\n",
              "<style scoped>\n",
              "    .dataframe tbody tr th:only-of-type {\n",
              "        vertical-align: middle;\n",
              "    }\n",
              "\n",
              "    .dataframe tbody tr th {\n",
              "        vertical-align: top;\n",
              "    }\n",
              "\n",
              "    .dataframe thead th {\n",
              "        text-align: right;\n",
              "    }\n",
              "</style>\n",
              "<table border=\"1\" class=\"dataframe\">\n",
              "  <thead>\n",
              "    <tr style=\"text-align: right;\">\n",
              "      <th></th>\n",
              "      <th>Avg wait(min)</th>\n",
              "      <th>95th pct wait(min)</th>\n",
              "    </tr>\n",
              "  </thead>\n",
              "  <tbody>\n",
              "    <tr>\n",
              "      <th>count</th>\n",
              "      <td>31.000000</td>\n",
              "      <td>31.000000</td>\n",
              "    </tr>\n",
              "    <tr>\n",
              "      <th>mean</th>\n",
              "      <td>2.265743</td>\n",
              "      <td>4.719478</td>\n",
              "    </tr>\n",
              "    <tr>\n",
              "      <th>std</th>\n",
              "      <td>0.310073</td>\n",
              "      <td>0.176131</td>\n",
              "    </tr>\n",
              "    <tr>\n",
              "      <th>min</th>\n",
              "      <td>1.660560</td>\n",
              "      <td>3.924112</td>\n",
              "    </tr>\n",
              "    <tr>\n",
              "      <th>25%</th>\n",
              "      <td>2.047189</td>\n",
              "      <td>4.686362</td>\n",
              "    </tr>\n",
              "    <tr>\n",
              "      <th>50%</th>\n",
              "      <td>2.268363</td>\n",
              "      <td>4.730032</td>\n",
              "    </tr>\n",
              "    <tr>\n",
              "      <th>75%</th>\n",
              "      <td>2.475858</td>\n",
              "      <td>4.820337</td>\n",
              "    </tr>\n",
              "    <tr>\n",
              "      <th>max</th>\n",
              "      <td>2.873523</td>\n",
              "      <td>4.940171</td>\n",
              "    </tr>\n",
              "  </tbody>\n",
              "</table>\n",
              "</div>\n",
              "    <div class=\"colab-df-buttons\">\n",
              "\n",
              "  <div class=\"colab-df-container\">\n",
              "    <button class=\"colab-df-convert\" onclick=\"convertToInteractive('df-7993236d-afe9-49a4-b3ab-7e6d99217450')\"\n",
              "            title=\"Convert this dataframe to an interactive table.\"\n",
              "            style=\"display:none;\">\n",
              "\n",
              "  <svg xmlns=\"http://www.w3.org/2000/svg\" height=\"24px\" viewBox=\"0 -960 960 960\">\n",
              "    <path d=\"M120-120v-720h720v720H120Zm60-500h600v-160H180v160Zm220 220h160v-160H400v160Zm0 220h160v-160H400v160ZM180-400h160v-160H180v160Zm440 0h160v-160H620v160ZM180-180h160v-160H180v160Zm440 0h160v-160H620v160Z\"/>\n",
              "  </svg>\n",
              "    </button>\n",
              "\n",
              "  <style>\n",
              "    .colab-df-container {\n",
              "      display:flex;\n",
              "      gap: 12px;\n",
              "    }\n",
              "\n",
              "    .colab-df-convert {\n",
              "      background-color: #E8F0FE;\n",
              "      border: none;\n",
              "      border-radius: 50%;\n",
              "      cursor: pointer;\n",
              "      display: none;\n",
              "      fill: #1967D2;\n",
              "      height: 32px;\n",
              "      padding: 0 0 0 0;\n",
              "      width: 32px;\n",
              "    }\n",
              "\n",
              "    .colab-df-convert:hover {\n",
              "      background-color: #E2EBFA;\n",
              "      box-shadow: 0px 1px 2px rgba(60, 64, 67, 0.3), 0px 1px 3px 1px rgba(60, 64, 67, 0.15);\n",
              "      fill: #174EA6;\n",
              "    }\n",
              "\n",
              "    .colab-df-buttons div {\n",
              "      margin-bottom: 4px;\n",
              "    }\n",
              "\n",
              "    [theme=dark] .colab-df-convert {\n",
              "      background-color: #3B4455;\n",
              "      fill: #D2E3FC;\n",
              "    }\n",
              "\n",
              "    [theme=dark] .colab-df-convert:hover {\n",
              "      background-color: #434B5C;\n",
              "      box-shadow: 0px 1px 3px 1px rgba(0, 0, 0, 0.15);\n",
              "      filter: drop-shadow(0px 1px 2px rgba(0, 0, 0, 0.3));\n",
              "      fill: #FFFFFF;\n",
              "    }\n",
              "  </style>\n",
              "\n",
              "    <script>\n",
              "      const buttonEl =\n",
              "        document.querySelector('#df-7993236d-afe9-49a4-b3ab-7e6d99217450 button.colab-df-convert');\n",
              "      buttonEl.style.display =\n",
              "        google.colab.kernel.accessAllowed ? 'block' : 'none';\n",
              "\n",
              "      async function convertToInteractive(key) {\n",
              "        const element = document.querySelector('#df-7993236d-afe9-49a4-b3ab-7e6d99217450');\n",
              "        const dataTable =\n",
              "          await google.colab.kernel.invokeFunction('convertToInteractive',\n",
              "                                                    [key], {});\n",
              "        if (!dataTable) return;\n",
              "\n",
              "        const docLinkHtml = 'Like what you see? Visit the ' +\n",
              "          '<a target=\"_blank\" href=https://colab.research.google.com/notebooks/data_table.ipynb>data table notebook</a>'\n",
              "          + ' to learn more about interactive tables.';\n",
              "        element.innerHTML = '';\n",
              "        dataTable['output_type'] = 'display_data';\n",
              "        await google.colab.output.renderOutput(dataTable, element);\n",
              "        const docLink = document.createElement('div');\n",
              "        docLink.innerHTML = docLinkHtml;\n",
              "        element.appendChild(docLink);\n",
              "      }\n",
              "    </script>\n",
              "  </div>\n",
              "\n",
              "\n",
              "    <div id=\"df-aba22961-8eb8-4112-a09c-d425f6c2ad3b\">\n",
              "      <button class=\"colab-df-quickchart\" onclick=\"quickchart('df-aba22961-8eb8-4112-a09c-d425f6c2ad3b')\"\n",
              "                title=\"Suggest charts\"\n",
              "                style=\"display:none;\">\n",
              "\n",
              "<svg xmlns=\"http://www.w3.org/2000/svg\" height=\"24px\"viewBox=\"0 0 24 24\"\n",
              "     width=\"24px\">\n",
              "    <g>\n",
              "        <path d=\"M19 3H5c-1.1 0-2 .9-2 2v14c0 1.1.9 2 2 2h14c1.1 0 2-.9 2-2V5c0-1.1-.9-2-2-2zM9 17H7v-7h2v7zm4 0h-2V7h2v10zm4 0h-2v-4h2v4z\"/>\n",
              "    </g>\n",
              "</svg>\n",
              "      </button>\n",
              "\n",
              "<style>\n",
              "  .colab-df-quickchart {\n",
              "      --bg-color: #E8F0FE;\n",
              "      --fill-color: #1967D2;\n",
              "      --hover-bg-color: #E2EBFA;\n",
              "      --hover-fill-color: #174EA6;\n",
              "      --disabled-fill-color: #AAA;\n",
              "      --disabled-bg-color: #DDD;\n",
              "  }\n",
              "\n",
              "  [theme=dark] .colab-df-quickchart {\n",
              "      --bg-color: #3B4455;\n",
              "      --fill-color: #D2E3FC;\n",
              "      --hover-bg-color: #434B5C;\n",
              "      --hover-fill-color: #FFFFFF;\n",
              "      --disabled-bg-color: #3B4455;\n",
              "      --disabled-fill-color: #666;\n",
              "  }\n",
              "\n",
              "  .colab-df-quickchart {\n",
              "    background-color: var(--bg-color);\n",
              "    border: none;\n",
              "    border-radius: 50%;\n",
              "    cursor: pointer;\n",
              "    display: none;\n",
              "    fill: var(--fill-color);\n",
              "    height: 32px;\n",
              "    padding: 0;\n",
              "    width: 32px;\n",
              "  }\n",
              "\n",
              "  .colab-df-quickchart:hover {\n",
              "    background-color: var(--hover-bg-color);\n",
              "    box-shadow: 0 1px 2px rgba(60, 64, 67, 0.3), 0 1px 3px 1px rgba(60, 64, 67, 0.15);\n",
              "    fill: var(--button-hover-fill-color);\n",
              "  }\n",
              "\n",
              "  .colab-df-quickchart-complete:disabled,\n",
              "  .colab-df-quickchart-complete:disabled:hover {\n",
              "    background-color: var(--disabled-bg-color);\n",
              "    fill: var(--disabled-fill-color);\n",
              "    box-shadow: none;\n",
              "  }\n",
              "\n",
              "  .colab-df-spinner {\n",
              "    border: 2px solid var(--fill-color);\n",
              "    border-color: transparent;\n",
              "    border-bottom-color: var(--fill-color);\n",
              "    animation:\n",
              "      spin 1s steps(1) infinite;\n",
              "  }\n",
              "\n",
              "  @keyframes spin {\n",
              "    0% {\n",
              "      border-color: transparent;\n",
              "      border-bottom-color: var(--fill-color);\n",
              "      border-left-color: var(--fill-color);\n",
              "    }\n",
              "    20% {\n",
              "      border-color: transparent;\n",
              "      border-left-color: var(--fill-color);\n",
              "      border-top-color: var(--fill-color);\n",
              "    }\n",
              "    30% {\n",
              "      border-color: transparent;\n",
              "      border-left-color: var(--fill-color);\n",
              "      border-top-color: var(--fill-color);\n",
              "      border-right-color: var(--fill-color);\n",
              "    }\n",
              "    40% {\n",
              "      border-color: transparent;\n",
              "      border-right-color: var(--fill-color);\n",
              "      border-top-color: var(--fill-color);\n",
              "    }\n",
              "    60% {\n",
              "      border-color: transparent;\n",
              "      border-right-color: var(--fill-color);\n",
              "    }\n",
              "    80% {\n",
              "      border-color: transparent;\n",
              "      border-right-color: var(--fill-color);\n",
              "      border-bottom-color: var(--fill-color);\n",
              "    }\n",
              "    90% {\n",
              "      border-color: transparent;\n",
              "      border-bottom-color: var(--fill-color);\n",
              "    }\n",
              "  }\n",
              "</style>\n",
              "\n",
              "      <script>\n",
              "        async function quickchart(key) {\n",
              "          const quickchartButtonEl =\n",
              "            document.querySelector('#' + key + ' button');\n",
              "          quickchartButtonEl.disabled = true;  // To prevent multiple clicks.\n",
              "          quickchartButtonEl.classList.add('colab-df-spinner');\n",
              "          try {\n",
              "            const charts = await google.colab.kernel.invokeFunction(\n",
              "                'suggestCharts', [key], {});\n",
              "          } catch (error) {\n",
              "            console.error('Error during call to suggestCharts:', error);\n",
              "          }\n",
              "          quickchartButtonEl.classList.remove('colab-df-spinner');\n",
              "          quickchartButtonEl.classList.add('colab-df-quickchart-complete');\n",
              "        }\n",
              "        (() => {\n",
              "          let quickchartButtonEl =\n",
              "            document.querySelector('#df-aba22961-8eb8-4112-a09c-d425f6c2ad3b button');\n",
              "          quickchartButtonEl.style.display =\n",
              "            google.colab.kernel.accessAllowed ? 'block' : 'none';\n",
              "        })();\n",
              "      </script>\n",
              "    </div>\n",
              "\n",
              "    </div>\n",
              "  </div>\n"
            ],
            "application/vnd.google.colaboratory.intrinsic+json": {
              "type": "dataframe",
              "summary": "{\n  \"name\": \"df\",\n  \"rows\": 8,\n  \"fields\": [\n    {\n      \"column\": \"Avg wait(min)\",\n      \"properties\": {\n        \"dtype\": \"number\",\n        \"std\": 10.286570344951906,\n        \"min\": 0.3100734539277614,\n        \"max\": 31.0,\n        \"num_unique_values\": 8,\n        \"samples\": [\n          2.2657425108575997,\n          2.268362839646423,\n          31.0\n        ],\n        \"semantic_type\": \"\",\n        \"description\": \"\"\n      }\n    },\n    {\n      \"column\": \"95th pct wait(min)\",\n      \"properties\": {\n        \"dtype\": \"number\",\n        \"std\": 9.677692205433214,\n        \"min\": 0.17613104559617065,\n        \"max\": 31.0,\n        \"num_unique_values\": 8,\n        \"samples\": [\n          4.71947817399044,\n          4.7300315266971396,\n          31.0\n        ],\n        \"semantic_type\": \"\",\n        \"description\": \"\"\n      }\n    }\n  ]\n}"
            }
          },
          "metadata": {},
          "execution_count": 51
        }
      ]
    },
    {
      "cell_type": "code",
      "source": [
        "# Plot the distribution of system sizes (queue lengths)\n",
        "plt.figure(figsize=(8, 4))\n",
        "plt.hist(system_sizes, bins=range(int(system_sizes.max()) + 2), align='left', rwidth=0.8)\n",
        "plt.title(\"Distribution of System Sizes (Queue Lengths)\")\n",
        "plt.xlabel(\"Number of Callers in System\")\n",
        "plt.ylabel(\"Frequency\")\n",
        "plt.grid(True)\n",
        "plt.show()"
      ],
      "metadata": {
        "colab": {
          "base_uri": "https://localhost:8080/",
          "height": 410
        },
        "id": "gJAN40VgOw-T",
        "outputId": "781d13e9-942f-4579-e8bc-cc0526262efd"
      },
      "execution_count": 55,
      "outputs": [
        {
          "output_type": "display_data",
          "data": {
            "text/plain": [
              "<Figure size 800x400 with 1 Axes>"
            ],
            "image/png": "[encoded data removed]"
          },
          "metadata": {}
        }
      ]
    },
    {
      "cell_type": "markdown",
      "source": [
        "## Conclusion\n",
        "\n",
        "In this project, we simulated a call center to determine the optimal number of agents needed to efficiently manage customer calls during an 8-hour shift. Using an M/M/s queueing model, we tracked customer arrival rates, service times, wait times, and system load.\n",
        "\n",
        "We analyzed various factors, including:  \n",
        "- The impact of different numbers of agents on wait times  \n",
        "- Time-varying call volumes reflecting peak and off-peak periods  \n",
        "- Customer abandonment due to excessive wait times  \n",
        "- Scheduling of agent breaks  \n",
        "- Cost optimization balancing staffing and customer wait costs  \n",
        "- Performance variability over multiple days  \n",
        "\n",
        "### Final Decision:  \n",
        "After evaluating different staffing levels and balancing cost with service quality, **5 agents** was identified as the optimal number. This staffing level keeps most customer wait times under the 5-minute target, maintains acceptable abandonment rates, and minimizes total costs, ensuring both efficient and cost-effective call center operations.\n"
      ],
      "metadata": {
        "id": "8cZEDn161dDw"
      }
    }
  ]
}